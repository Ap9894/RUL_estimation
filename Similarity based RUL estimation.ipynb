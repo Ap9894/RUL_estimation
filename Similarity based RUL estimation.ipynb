{
 "cells": [
  {
   "cell_type": "code",
   "execution_count": 49,
   "metadata": {
    "collapsed": true
   },
   "outputs": [],
   "source": [
    "import pandas as pd\n",
    "import numpy as np\n",
    "import matplotlib.pyplot as plt"
   ]
  },
  {
   "cell_type": "code",
   "execution_count": 23,
   "metadata": {},
   "outputs": [
    {
     "name": "stderr",
     "output_type": "stream",
     "text": [
      "/anaconda/anaconda3/lib/python3.6/site-packages/IPython/core/interactiveshell.py:2698: DtypeWarning: Columns (0,1,2,3,4,5,6,7,8,9,10,11,12,13,14,15,16,17,18,19,20,21,22,23,24,25) have mixed types. Specify dtype option on import or set low_memory=False.\n",
      "  interactivity=interactivity, compiler=compiler, result=result)\n"
     ]
    }
   ],
   "source": [
    "train = pd.read_csv('trgdata1.csv')\n",
    "test = pd.read_csv('challenge_data.csv')\n",
    "\n",
    "# train.columns\n",
    "# test = pd.read_csv('test.csv')"
   ]
  },
  {
   "cell_type": "code",
   "execution_count": 3,
   "metadata": {
    "collapsed": true
   },
   "outputs": [],
   "source": [
    "# cols = ['T2','P2','P15','Nf','Nc','EPR','NRf','Nrc','farB','htBleed','Nf_dmd','PCNfR_dmd','W31','W32']"
   ]
  },
  {
   "cell_type": "code",
   "execution_count": 5,
   "metadata": {
    "collapsed": true
   },
   "outputs": [],
   "source": [
    "# train = train.drop(cols,axis = 1)\n",
    "# test = test.drop(cols,axis = 1)"
   ]
  },
  {
   "cell_type": "code",
   "execution_count": 50,
   "metadata": {
    "collapsed": true
   },
   "outputs": [],
   "source": [
    "data1 = pd.read_csv('health_index.csv')"
   ]
  },
  {
   "cell_type": "code",
   "execution_count": 52,
   "metadata": {
    "collapsed": true
   },
   "outputs": [],
   "source": [
    "HI_tree = data1['HI']"
   ]
  },
  {
   "cell_type": "code",
   "execution_count": 24,
   "metadata": {
    "collapsed": true
   },
   "outputs": [],
   "source": [
    "train = train.drop('Ops Mode',axis = 1)\n",
    "# test = test.drop('Ops Mode',axis = 1)"
   ]
  },
  {
   "cell_type": "code",
   "execution_count": 25,
   "metadata": {
    "collapsed": true
   },
   "outputs": [],
   "source": [
    "TRA = train['TRA']\n",
    "OpsMode = []\n",
    "for x in TRA:\n",
    "    if x == 0:\n",
    "        OpsMode.append(1)\n",
    "    if x == 20:\n",
    "        OpsMode.append(2)\n",
    "    if x == 40:\n",
    "        OpsMode.append(3)\n",
    "    if x == 60:\n",
    "        OpsMode.append(4)\n",
    "    if x == 80:\n",
    "        OpsMode.append(5)\n",
    "    if x == 100:\n",
    "        OpsMode.append(6)\n",
    "\n",
    "        "
   ]
  },
  {
   "cell_type": "code",
   "execution_count": 8,
   "metadata": {
    "collapsed": true
   },
   "outputs": [],
   "source": [
    "TRA1 = test['TRA']\n",
    "OpsMode1 = []\n",
    "for x in TRA1:\n",
    "    if x == 0:\n",
    "        OpsMode1.append(1)\n",
    "    if x == 20:\n",
    "        OpsMode1.append(2)\n",
    "    if x == 40:\n",
    "        OpsMode1.append(3)\n",
    "    if x == 60:\n",
    "        OpsMode1.append(4)\n",
    "    if x == 80:\n",
    "        OpsMode1.append(5)\n",
    "    if x == 100:\n",
    "        OpsMode1.append(6)\n",
    "    \n"
   ]
  },
  {
   "cell_type": "code",
   "execution_count": 9,
   "metadata": {
    "collapsed": true
   },
   "outputs": [],
   "source": [
    "# TRA1"
   ]
  },
  {
   "cell_type": "code",
   "execution_count": 10,
   "metadata": {
    "collapsed": true
   },
   "outputs": [],
   "source": [
    "v = TRA1.unique()\n",
    "# v"
   ]
  },
  {
   "cell_type": "code",
   "execution_count": 26,
   "metadata": {
    "collapsed": true
   },
   "outputs": [],
   "source": [
    "train['OpsMode'] = OpsMode\n",
    "# test['OpsMode'] = OpsMode1\n",
    "train = train.drop(['Altitude','Mach No','TRA'],axis=1)\n",
    "# test = test.drop(['Altitude','Mach No','TRA'],axis=1)"
   ]
  },
  {
   "cell_type": "code",
   "execution_count": 51,
   "metadata": {},
   "outputs": [
    {
     "data": {
      "text/plain": [
       "Text(0.5, 0, 'Time')"
      ]
     },
     "execution_count": 51,
     "metadata": {},
     "output_type": "execute_result"
    },
    {
     "data": {
      "image/png": "[encoded data removed]",
      "text/plain": [
       "<Figure size 432x288 with 1 Axes>"
      ]
     },
     "metadata": {},
     "output_type": "display_data"
    }
   ],
   "source": [
    "import seaborn as sns\n",
    "%matplotlib inline\n",
    "sns.set()\n",
    "d = train[train['OpsMode']==1]\n",
    "d = d.iloc[0:322]\n",
    "y = d['T24']\n",
    "x = d['Time']\n",
    "ax = plt.scatter(x ,y)\n",
    "plt.ylabel('T24')\n",
    "plt.xlabel('Time')"
   ]
  },
  {
   "cell_type": "code",
   "execution_count": 27,
   "metadata": {
    "collapsed": true
   },
   "outputs": [],
   "source": [
    "unitlife = []\n",
    "n = train['A/C No.'].nunique()\n"
   ]
  },
  {
   "cell_type": "code",
   "execution_count": 28,
   "metadata": {
    "collapsed": true
   },
   "outputs": [],
   "source": [
    "for i in range(1,n+1):\n",
    "    k = train[train['A/C No.'] == i].shape[0]\n",
    "    unitlife += k*[k]\n"
   ]
  },
  {
   "cell_type": "code",
   "execution_count": 29,
   "metadata": {
    "collapsed": true
   },
   "outputs": [],
   "source": [
    "train['unitlife'] = unitlife\n",
    "train['Time'] = train['Time']-train['unitlife']\n",
    "train = train.drop('unitlife',axis = 1)\n",
    "# test = train"
   ]
  },
  {
   "cell_type": "code",
   "execution_count": 30,
   "metadata": {
    "collapsed": true
   },
   "outputs": [],
   "source": [
    "import seaborn as sns\n",
    "from sklearn.model_selection import train_test_split \n",
    "from sklearn.linear_model import LinearRegression\n",
    "from sklearn import metrics\n",
    "from sklearn.preprocessing import MinMaxScaler,StandardScaler\n",
    "%matplotlib inline\n"
   ]
  },
  {
   "cell_type": "code",
   "execution_count": 18,
   "metadata": {},
   "outputs": [
    {
     "data": {
      "text/plain": [
       "Text(0.5, 0, 'Time')"
      ]
     },
     "execution_count": 18,
     "metadata": {},
     "output_type": "execute_result"
    },
    {
     "data": {
      "image/png": "[encoded data removed]",
      "text/plain": [
       "<Figure size 432x288 with 1 Axes>"
      ]
     },
     "metadata": {},
     "output_type": "display_data"
    }
   ],
   "source": [
    "import seaborn as sns\n",
    "sns.set()\n",
    "d = train[train['OpsMode']==1]\n",
    "y = d['T24']\n",
    "x = d['Time']\n",
    "ax = plt.scatter(x ,y)\n",
    "plt.ylabel('T24')\n",
    "plt.xlabel('Time')"
   ]
  },
  {
   "cell_type": "code",
   "execution_count": 16,
   "metadata": {
    "collapsed": true
   },
   "outputs": [],
   "source": [
    "cols1 = ['T2','P2','P15','Nf','Nc','EPR','NRf','Nrc','farB','htBleed','Nf_dmd','PCNfR_dmd']\n",
    "PCA_train = train.drop(cols1,axis = 1)\n",
    "PCA_test = test.drop(cols1,axis = 1)"
   ]
  },
  {
   "cell_type": "code",
   "execution_count": 31,
   "metadata": {
    "collapsed": true
   },
   "outputs": [],
   "source": [
    "cols = ['T2','P2','P15','Nf','Nc','EPR','NRf','Nrc','farB','htBleed','Nf_dmd','PCNfR_dmd','W31','W32']\n",
    "train = train.drop(cols,axis = 1)\n",
    "test = test.drop(cols,axis = 1)"
   ]
  },
  {
   "cell_type": "code",
   "execution_count": 18,
   "metadata": {},
   "outputs": [
    {
     "data": {
      "text/plain": [
       "169"
      ]
     },
     "execution_count": 18,
     "metadata": {},
     "output_type": "execute_result"
    }
   ],
   "source": [
    "X = train[train['OpsMode']==1]\n",
    "Time1 = X['Time']\n",
    "X = X[(X['Time']<-300) | (X['Time']>-5)]\n",
    "X.shape[0]\n",
    "# X\n",
    "# Time1"
   ]
  },
  {
   "cell_type": "code",
   "execution_count": 32,
   "metadata": {
    "collapsed": true
   },
   "outputs": [],
   "source": [
    "X = train[(train['Time']<-300) | (train['Time']>-5)]\n",
    "X = X.drop('A/C No.',axis = 1)"
   ]
  },
  {
   "cell_type": "code",
   "execution_count": 20,
   "metadata": {},
   "outputs": [
    {
     "data": {
      "text/plain": [
       "1223"
      ]
     },
     "execution_count": 20,
     "metadata": {},
     "output_type": "execute_result"
    }
   ],
   "source": [
    "X.head()\n",
    "X.shape[0]"
   ]
  },
  {
   "cell_type": "code",
   "execution_count": 33,
   "metadata": {
    "collapsed": true
   },
   "outputs": [],
   "source": [
    "from sklearn.model_selection import train_test_split\n",
    "from sklearn.metrics import r2_score"
   ]
  },
  {
   "cell_type": "code",
   "execution_count": 39,
   "metadata": {
    "collapsed": true
   },
   "outputs": [],
   "source": [
    "scaler = MinMaxScaler()\n",
    "M = []\n",
    "score = []\n",
    "residual_data = []\n",
    "actual_y = []\n",
    "predicted_y = []\n",
    "for i in range (1,7):\n",
    "    Xi = X[X['OpsMode'] == i]\n",
    "    Xi = Xi.drop('OpsMode',axis=1)\n",
    "#     print(Xi.shape[0])\n",
    "    yi = np.where(Xi['Time']>-5,0,1)\n",
    "    Time = Xi['Time']\n",
    "    Xi = Xi.drop('Time',axis=1)\n",
    "    scaler.fit(Xi)\n",
    "    Xi = scaler.transform(Xi)\n",
    "    Xi_train, Xi_test, yi_train, yi_test = train_test_split(Xi, yi, test_size=0.2, random_state=0)\n",
    "    regressor = LinearRegression()\n",
    "    Mi = regressor.fit(Xi_train,yi_train)\n",
    "    yi_pred = Mi.predict(Xi_test)\n",
    "    score.append(r2_score(yi_test,yi_pred))\n",
    "    \n",
    "    residual = yi_test-yi_pred\n",
    "    residual_data.append(residual)\n",
    "    actual_y.append(yi_test)\n",
    "    predicted_y.append(yi_pred)\n",
    "    coeff_df = pd.DataFrame(Mi.coef_, columns = ['Coefficient'])\n",
    "#     print(coeff_df)\n",
    "    M.append(Mi)"
   ]
  },
  {
   "cell_type": "code",
   "execution_count": 48,
   "metadata": {},
   "outputs": [
    {
     "data": {
      "text/plain": [
       "Text(0.5, 0, 'predicted y')"
      ]
     },
     "execution_count": 48,
     "metadata": {},
     "output_type": "execute_result"
    },
    {
     "data": {
      "image/png": "[encoded data removed]",
      "text/plain": [
       "<Figure size 432x288 with 1 Axes>"
      ]
     },
     "metadata": {},
     "output_type": "display_data"
    }
   ],
   "source": [
    "# residual check for linear regression\n",
    "import seaborn as sns\n",
    "sns.set()\n",
    "y = residual_data[0]\n",
    "x = predicted_y[0]\n",
    "ax = plt.scatter(x ,y)\n",
    "plt.ylabel('residual')\n",
    "plt.xlabel('predicted y')"
   ]
  },
  {
   "cell_type": "code",
   "execution_count": 321,
   "metadata": {},
   "outputs": [
    {
     "data": {
      "text/plain": [
       "[0.9528724312590026,\n",
       " 0.9503008982193133,\n",
       " 0.9324757448014721,\n",
       " 0.9404550141050213,\n",
       " 0.9143505859600716,\n",
       " 0.9434097021360036]"
      ]
     },
     "execution_count": 321,
     "metadata": {},
     "output_type": "execute_result"
    }
   ],
   "source": [
    "\n",
    "score"
   ]
  },
  {
   "cell_type": "code",
   "execution_count": 140,
   "metadata": {
    "collapsed": true
   },
   "outputs": [],
   "source": [
    "#with non-linear regression\n",
    "from sklearn.preprocessing import PolynomialFeatures\n",
    "from sklearn import linear_model\n",
    "scaler = MinMaxScaler()\n",
    "M_ = []\n",
    "score_ = []\n",
    "for i in range (1,7):\n",
    "    Xi = X[X['OpsMode'] == i]\n",
    "    Xi = Xi.drop('OpsMode',axis=1)\n",
    "    yi = np.where(Xi['Time']>-5,0,1)\n",
    "    Time = Xi['Time']\n",
    "    Xi = Xi.drop('Time',axis=1)\n",
    "    scaler.fit(Xi)\n",
    "    Xi = scaler.transform(Xi)\n",
    "    Xi_train, Xi_test, yi_train, yi_test = train_test_split(Xi, yi, test_size=0.2, random_state=0)\n",
    "    poly = PolynomialFeatures(degree=4)\n",
    "    Xi_train = poly.fit_transform(Xi_train)\n",
    "    Xi_test = poly.fit_transform(Xi_test)\n",
    "    regressor = LinearRegression()\n",
    "    Mi_ = regressor.fit(Xi_train,yi_train)\n",
    "    yi_pred = Mi_.predict(Xi_test)\n",
    "    score_.append(r2_score(yi_test,yi_pred))\n",
    "    coeff_df = pd.DataFrame(Mi_.coef_, columns = ['Coefficient'])\n",
    "    print(coeff_df)\n",
    "    M_.append(Mi_)\n"
   ]
  },
  {
   "cell_type": "code",
   "execution_count": 141,
   "metadata": {
    "collapsed": true,
    "scrolled": true
   },
   "outputs": [],
   "source": [
    "# print(score)\n",
    "# score_"
   ]
  },
  {
   "cell_type": "code",
   "execution_count": 193,
   "metadata": {
    "collapsed": true
   },
   "outputs": [],
   "source": [
    "#with non-linear regression\n",
    "scaler = MinMaxScaler()\n",
    "data_ = []\n",
    "for i in range(1,7):\n",
    "    Xi = train[train['OpsMode'] == i]\n",
    "    Xii = Xi.drop(['A/C No.','OpsMode','Time'],axis = 1)\n",
    "    Xi = Xi.drop(['T24','T30','T50','P30','Ps30','phi','BPR','OpsMode'],axis = 1)\n",
    "    scaler.fit(Xii)\n",
    "    Xii = scaler.transform(Xii)\n",
    "    poly = PolynomialFeatures(degree=2)\n",
    "    Xii = poly.fit_transform(Xii)\n",
    "    yi = M_[i-1].predict(Xii)\n",
    "    Xi['HI'] = yi\n",
    "    data_.append(Xi)"
   ]
  },
  {
   "cell_type": "code",
   "execution_count": 195,
   "metadata": {
    "collapsed": true
   },
   "outputs": [],
   "source": [
    "#with non-linear regression data\n",
    "df_ = pd.concat(data_)\n",
    "df_.sort_index(inplace = True)"
   ]
  },
  {
   "cell_type": "code",
   "execution_count": 54,
   "metadata": {
    "collapsed": true
   },
   "outputs": [],
   "source": [
    "\n",
    "scaler = MinMaxScaler()\n",
    "data = []\n",
    "for i in range(1,7):\n",
    "    Xi = train[train['OpsMode'] == i]\n",
    "#     OpsMode = Xi['OpsMode']\n",
    "#     Unit = Xi['A/C No.'] \n",
    "    Xii = Xi.drop(['A/C No.','OpsMode','Time'],axis = 1)\n",
    "    Xi = Xi.drop(['T24','T30','T50','P30','Ps30','phi','BPR','OpsMode'],axis = 1)\n",
    "    scaler.fit(Xii)\n",
    "    Xii = scaler.transform(Xii)\n",
    "    yi = M[i-1].predict(Xii)\n",
    "    Xi['HI'] = yi\n",
    "    data.append(Xi)\n",
    "#     df = pd.DataFrame([Unit,OpsMode,yi],columns = ['A/C No.','OpsMode','HI'])\n",
    "#     print(Xi)\n"
   ]
  },
  {
   "cell_type": "code",
   "execution_count": 55,
   "metadata": {
    "collapsed": true
   },
   "outputs": [],
   "source": [
    "df = pd.concat(data)\n",
    "df.sort_index(inplace = True)"
   ]
  },
  {
   "cell_type": "code",
   "execution_count": 60,
   "metadata": {
    "collapsed": true
   },
   "outputs": [],
   "source": [
    "#for residual check with hi from decision tree\n",
    "HI_linear = df['HI']"
   ]
  },
  {
   "cell_type": "code",
   "execution_count": 59,
   "metadata": {},
   "outputs": [
    {
     "data": {
      "text/plain": [
       "Text(0.5, 0, 'predicted HI')"
      ]
     },
     "execution_count": 59,
     "metadata": {},
     "output_type": "execute_result"
    },
    {
     "data": {
      "image/png": "[encoded data removed]",
      "text/plain": [
       "<Figure size 432x288 with 1 Axes>"
      ]
     },
     "metadata": {},
     "output_type": "display_data"
    }
   ],
   "source": [
    "import seaborn as sns\n",
    "sns.set()\n",
    "y = HI_tree - HI_linear\n",
    "x = HI_tree\n",
    "ax = plt.scatter(x,y)\n",
    "plt.ylabel('residual')\n",
    "plt.xlabel('predicted HI')"
   ]
  },
  {
   "cell_type": "code",
   "execution_count": 20,
   "metadata": {
    "scrolled": true
   },
   "outputs": [
    {
     "data": {
      "image/png": "[encoded data removed]",
      "text/plain": [
       "<Figure size 360x360 with 1 Axes>"
      ]
     },
     "metadata": {},
     "output_type": "display_data"
    }
   ],
   "source": [
    "#with linear data\n",
    "import seaborn as sns\n",
    "sns.set()\n",
    "d = df[df['A/C No.']==2]\n",
    "ax = sns.lmplot(x = 'Time',y = 'HI',data = d)"
   ]
  },
  {
   "cell_type": "code",
   "execution_count": 200,
   "metadata": {},
   "outputs": [
    {
     "data": {
      "image/png": "[encoded data removed]",
      "text/plain": [
       "<Figure size 360x360 with 1 Axes>"
      ]
     },
     "metadata": {},
     "output_type": "display_data"
    }
   ],
   "source": [
    "#with non-linear data\n",
    "import seaborn as sns\n",
    "sns.set()\n",
    "d_ = df_[df_['A/C No.']==2]\n",
    "ax = sns.lmplot(x = 'Time',y = 'HI',data = d_)"
   ]
  },
  {
   "cell_type": "code",
   "execution_count": 22,
   "metadata": {},
   "outputs": [
    {
     "data": {
      "text/plain": [
       "<matplotlib.collections.PathCollection at 0x11e7174e0>"
      ]
     },
     "execution_count": 22,
     "metadata": {},
     "output_type": "execute_result"
    },
    {
     "data": {
      "image/png": "[encoded data removed]",
      "text/plain": [
       "<Figure size 432x288 with 1 Axes>"
      ]
     },
     "metadata": {},
     "output_type": "display_data"
    }
   ],
   "source": [
    "from scipy.optimize import curve_fit\n",
    "def func(x,a,b,c,d):\n",
    "    return a*(np.exp(b*x+c)-np.exp(c))+d\n",
    "x = np.array(d['Time'])\n",
    "y = d['HI']\n",
    "popt, pcov = curve_fit(func,x,y)\n",
    "plt.plot(x,func(x,*popt))\n",
    "plt.ylabel('HI')\n",
    "plt.xlabel('Time')\n",
    "plt.scatter(x,y)\n",
    "# print(popt)\n",
    "# print(pcov)"
   ]
  },
  {
   "cell_type": "code",
   "execution_count": 58,
   "metadata": {
    "collapsed": true
   },
   "outputs": [],
   "source": [
    "from scipy.optimize import curve_fit\n",
    "def func(x,a,b):\n",
    "    return a*x+b\n",
    "fitted_curve_parameters = []\n",
    "covariance = []\n",
    "for i in range(1,n+1):\n",
    "    data = df[df['A/C No.'] == i]\n",
    "    x = np.array(data['Time'])\n",
    "    y = np.array(data['HI'])\n",
    "    popt, pcov = curve_fit(func,x,y)\n",
    "    fitted_curve_parameters.append(popt)\n",
    "    covariance.append(pcov)\n",
    "    "
   ]
  },
  {
   "cell_type": "code",
   "execution_count": 60,
   "metadata": {},
   "outputs": [
    {
     "data": {
      "text/html": [
       "<div>\n",
       "<style scoped>\n",
       "    .dataframe tbody tr th:only-of-type {\n",
       "        vertical-align: middle;\n",
       "    }\n",
       "\n",
       "    .dataframe tbody tr th {\n",
       "        vertical-align: top;\n",
       "    }\n",
       "\n",
       "    .dataframe thead th {\n",
       "        text-align: right;\n",
       "    }\n",
       "</style>\n",
       "<table border=\"1\" class=\"dataframe\">\n",
       "  <thead>\n",
       "    <tr style=\"text-align: right;\">\n",
       "      <th></th>\n",
       "      <th>A/C No.</th>\n",
       "      <th>Time</th>\n",
       "      <th>T24</th>\n",
       "      <th>T30</th>\n",
       "      <th>T50</th>\n",
       "      <th>P30</th>\n",
       "      <th>Ps30</th>\n",
       "      <th>phi</th>\n",
       "      <th>BPR</th>\n",
       "      <th>OpsMode</th>\n",
       "    </tr>\n",
       "  </thead>\n",
       "  <tbody>\n",
       "    <tr>\n",
       "      <td>0</td>\n",
       "      <td>1</td>\n",
       "      <td>-222</td>\n",
       "      <td>604.13</td>\n",
       "      <td>1499.45</td>\n",
       "      <td>1309.95</td>\n",
       "      <td>394.88</td>\n",
       "      <td>45.40</td>\n",
       "      <td>372.15</td>\n",
       "      <td>8.6216</td>\n",
       "      <td>2</td>\n",
       "    </tr>\n",
       "    <tr>\n",
       "      <td>1</td>\n",
       "      <td>1</td>\n",
       "      <td>-221</td>\n",
       "      <td>642.13</td>\n",
       "      <td>1584.55</td>\n",
       "      <td>1403.96</td>\n",
       "      <td>553.67</td>\n",
       "      <td>47.29</td>\n",
       "      <td>521.81</td>\n",
       "      <td>8.3907</td>\n",
       "      <td>6</td>\n",
       "    </tr>\n",
       "    <tr>\n",
       "      <td>2</td>\n",
       "      <td>1</td>\n",
       "      <td>-220</td>\n",
       "      <td>555.42</td>\n",
       "      <td>1368.17</td>\n",
       "      <td>1122.49</td>\n",
       "      <td>194.93</td>\n",
       "      <td>41.92</td>\n",
       "      <td>183.26</td>\n",
       "      <td>9.3557</td>\n",
       "      <td>4</td>\n",
       "    </tr>\n",
       "    <tr>\n",
       "      <td>3</td>\n",
       "      <td>1</td>\n",
       "      <td>-219</td>\n",
       "      <td>607.03</td>\n",
       "      <td>1488.44</td>\n",
       "      <td>1249.18</td>\n",
       "      <td>334.82</td>\n",
       "      <td>44.26</td>\n",
       "      <td>314.84</td>\n",
       "      <td>9.2231</td>\n",
       "      <td>1</td>\n",
       "    </tr>\n",
       "    <tr>\n",
       "      <td>4</td>\n",
       "      <td>1</td>\n",
       "      <td>-218</td>\n",
       "      <td>549.52</td>\n",
       "      <td>1354.48</td>\n",
       "      <td>1124.32</td>\n",
       "      <td>138.24</td>\n",
       "      <td>41.79</td>\n",
       "      <td>130.44</td>\n",
       "      <td>9.2986</td>\n",
       "      <td>3</td>\n",
       "    </tr>\n",
       "  </tbody>\n",
       "</table>\n",
       "</div>"
      ],
      "text/plain": [
       "   A/C No.  Time     T24      T30      T50     P30   Ps30     phi     BPR  \\\n",
       "0        1  -222  604.13  1499.45  1309.95  394.88  45.40  372.15  8.6216   \n",
       "1        1  -221  642.13  1584.55  1403.96  553.67  47.29  521.81  8.3907   \n",
       "2        1  -220  555.42  1368.17  1122.49  194.93  41.92  183.26  9.3557   \n",
       "3        1  -219  607.03  1488.44  1249.18  334.82  44.26  314.84  9.2231   \n",
       "4        1  -218  549.52  1354.48  1124.32  138.24  41.79  130.44  9.2986   \n",
       "\n",
       "   OpsMode  \n",
       "0        2  \n",
       "1        6  \n",
       "2        4  \n",
       "3        1  \n",
       "4        3  "
      ]
     },
     "execution_count": 60,
     "metadata": {},
     "output_type": "execute_result"
    }
   ],
   "source": [
    "test.head()"
   ]
  },
  {
   "cell_type": "code",
   "execution_count": 61,
   "metadata": {
    "collapsed": true
   },
   "outputs": [],
   "source": [
    "scaler = MinMaxScaler()\n",
    "data = []\n",
    "for i in range(1,7):\n",
    "    Xi = test[test['OpsMode'] == i]\n",
    "    Xii = Xi.drop(['A/C No.','OpsMode'],axis = 1)\n",
    "    Xi = Xi.drop(['T24','T30','T50','P30','Ps30','phi','BPR','OpsMode'],axis = 1)\n",
    "    scaler.fit(Xii)\n",
    "    Xii = scaler.transform(Xii)\n",
    "    yi = M[i-1].predict(Xii)\n",
    "    Xi['HI'] = yi\n",
    "    data.append(Xi)"
   ]
  },
  {
   "cell_type": "code",
   "execution_count": 65,
   "metadata": {
    "collapsed": true
   },
   "outputs": [],
   "source": [
    "df_test = pd.concat(data)\n",
    "df_test.sort_index(inplace = True)"
   ]
  },
  {
   "cell_type": "code",
   "execution_count": 64,
   "metadata": {},
   "outputs": [
    {
     "data": {
      "text/html": [
       "<div>\n",
       "<style scoped>\n",
       "    .dataframe tbody tr th:only-of-type {\n",
       "        vertical-align: middle;\n",
       "    }\n",
       "\n",
       "    .dataframe tbody tr th {\n",
       "        vertical-align: top;\n",
       "    }\n",
       "\n",
       "    .dataframe thead th {\n",
       "        text-align: right;\n",
       "    }\n",
       "</style>\n",
       "<table border=\"1\" class=\"dataframe\">\n",
       "  <thead>\n",
       "    <tr style=\"text-align: right;\">\n",
       "      <th></th>\n",
       "      <th>A/C No.</th>\n",
       "      <th>Time</th>\n",
       "      <th>HI</th>\n",
       "    </tr>\n",
       "  </thead>\n",
       "  <tbody>\n",
       "    <tr>\n",
       "      <td>0</td>\n",
       "      <td>1</td>\n",
       "      <td>-222</td>\n",
       "      <td>0.692859</td>\n",
       "    </tr>\n",
       "    <tr>\n",
       "      <td>1</td>\n",
       "      <td>1</td>\n",
       "      <td>-221</td>\n",
       "      <td>0.698001</td>\n",
       "    </tr>\n",
       "    <tr>\n",
       "      <td>2</td>\n",
       "      <td>1</td>\n",
       "      <td>-220</td>\n",
       "      <td>0.697120</td>\n",
       "    </tr>\n",
       "    <tr>\n",
       "      <td>3</td>\n",
       "      <td>1</td>\n",
       "      <td>-219</td>\n",
       "      <td>0.673532</td>\n",
       "    </tr>\n",
       "    <tr>\n",
       "      <td>4</td>\n",
       "      <td>1</td>\n",
       "      <td>-218</td>\n",
       "      <td>0.675802</td>\n",
       "    </tr>\n",
       "    <tr>\n",
       "      <td>...</td>\n",
       "      <td>...</td>\n",
       "      <td>...</td>\n",
       "      <td>...</td>\n",
       "    </tr>\n",
       "    <tr>\n",
       "      <td>45913</td>\n",
       "      <td>218</td>\n",
       "      <td>-4</td>\n",
       "      <td>0.002526</td>\n",
       "    </tr>\n",
       "    <tr>\n",
       "      <td>45914</td>\n",
       "      <td>218</td>\n",
       "      <td>-3</td>\n",
       "      <td>0.001872</td>\n",
       "    </tr>\n",
       "    <tr>\n",
       "      <td>45915</td>\n",
       "      <td>218</td>\n",
       "      <td>-2</td>\n",
       "      <td>-0.006154</td>\n",
       "    </tr>\n",
       "    <tr>\n",
       "      <td>45916</td>\n",
       "      <td>218</td>\n",
       "      <td>-1</td>\n",
       "      <td>-0.002291</td>\n",
       "    </tr>\n",
       "    <tr>\n",
       "      <td>45917</td>\n",
       "      <td>218</td>\n",
       "      <td>0</td>\n",
       "      <td>-0.004825</td>\n",
       "    </tr>\n",
       "  </tbody>\n",
       "</table>\n",
       "<p>45918 rows × 3 columns</p>\n",
       "</div>"
      ],
      "text/plain": [
       "       A/C No.  Time        HI\n",
       "0            1  -222  0.692859\n",
       "1            1  -221  0.698001\n",
       "2            1  -220  0.697120\n",
       "3            1  -219  0.673532\n",
       "4            1  -218  0.675802\n",
       "...        ...   ...       ...\n",
       "45913      218    -4  0.002526\n",
       "45914      218    -3  0.001872\n",
       "45915      218    -2 -0.006154\n",
       "45916      218    -1 -0.002291\n",
       "45917      218     0 -0.004825\n",
       "\n",
       "[45918 rows x 3 columns]"
      ]
     },
     "execution_count": 64,
     "metadata": {},
     "output_type": "execute_result"
    }
   ],
   "source": []
  },
  {
   "cell_type": "code",
   "execution_count": 300,
   "metadata": {},
   "outputs": [
    {
     "data": {
      "text/html": [
       "<div>\n",
       "<style scoped>\n",
       "    .dataframe tbody tr th:only-of-type {\n",
       "        vertical-align: middle;\n",
       "    }\n",
       "\n",
       "    .dataframe tbody tr th {\n",
       "        vertical-align: top;\n",
       "    }\n",
       "\n",
       "    .dataframe thead th {\n",
       "        text-align: right;\n",
       "    }\n",
       "</style>\n",
       "<table border=\"1\" class=\"dataframe\">\n",
       "  <thead>\n",
       "    <tr style=\"text-align: right;\">\n",
       "      <th></th>\n",
       "      <th>A/C No.</th>\n",
       "      <th>Time</th>\n",
       "      <th>T24</th>\n",
       "      <th>T30</th>\n",
       "      <th>T50</th>\n",
       "      <th>P30</th>\n",
       "      <th>Ps30</th>\n",
       "      <th>phi</th>\n",
       "      <th>BPR</th>\n",
       "      <th>W31</th>\n",
       "      <th>W32</th>\n",
       "      <th>OpsMode</th>\n",
       "    </tr>\n",
       "  </thead>\n",
       "  <tbody>\n",
       "    <tr>\n",
       "      <td>0</td>\n",
       "      <td>1</td>\n",
       "      <td>-222</td>\n",
       "      <td>604.13</td>\n",
       "      <td>1499.45</td>\n",
       "      <td>1309.95</td>\n",
       "      <td>394.88</td>\n",
       "      <td>45.40</td>\n",
       "      <td>372.15</td>\n",
       "      <td>8.6216</td>\n",
       "      <td>28.58</td>\n",
       "      <td>17.1735</td>\n",
       "      <td>2</td>\n",
       "    </tr>\n",
       "    <tr>\n",
       "      <td>1</td>\n",
       "      <td>1</td>\n",
       "      <td>-221</td>\n",
       "      <td>642.13</td>\n",
       "      <td>1584.55</td>\n",
       "      <td>1403.96</td>\n",
       "      <td>553.67</td>\n",
       "      <td>47.29</td>\n",
       "      <td>521.81</td>\n",
       "      <td>8.3907</td>\n",
       "      <td>38.99</td>\n",
       "      <td>23.3619</td>\n",
       "      <td>6</td>\n",
       "    </tr>\n",
       "    <tr>\n",
       "      <td>2</td>\n",
       "      <td>1</td>\n",
       "      <td>-220</td>\n",
       "      <td>555.42</td>\n",
       "      <td>1368.17</td>\n",
       "      <td>1122.49</td>\n",
       "      <td>194.93</td>\n",
       "      <td>41.92</td>\n",
       "      <td>183.26</td>\n",
       "      <td>9.3557</td>\n",
       "      <td>14.83</td>\n",
       "      <td>8.8555</td>\n",
       "      <td>4</td>\n",
       "    </tr>\n",
       "    <tr>\n",
       "      <td>3</td>\n",
       "      <td>1</td>\n",
       "      <td>-219</td>\n",
       "      <td>607.03</td>\n",
       "      <td>1488.44</td>\n",
       "      <td>1249.18</td>\n",
       "      <td>334.82</td>\n",
       "      <td>44.26</td>\n",
       "      <td>314.84</td>\n",
       "      <td>9.2231</td>\n",
       "      <td>24.42</td>\n",
       "      <td>14.7832</td>\n",
       "      <td>1</td>\n",
       "    </tr>\n",
       "    <tr>\n",
       "      <td>4</td>\n",
       "      <td>1</td>\n",
       "      <td>-218</td>\n",
       "      <td>549.52</td>\n",
       "      <td>1354.48</td>\n",
       "      <td>1124.32</td>\n",
       "      <td>138.24</td>\n",
       "      <td>41.79</td>\n",
       "      <td>130.44</td>\n",
       "      <td>9.2986</td>\n",
       "      <td>10.99</td>\n",
       "      <td>6.4025</td>\n",
       "      <td>3</td>\n",
       "    </tr>\n",
       "    <tr>\n",
       "      <td>...</td>\n",
       "      <td>...</td>\n",
       "      <td>...</td>\n",
       "      <td>...</td>\n",
       "      <td>...</td>\n",
       "      <td>...</td>\n",
       "      <td>...</td>\n",
       "      <td>...</td>\n",
       "      <td>...</td>\n",
       "      <td>...</td>\n",
       "      <td>...</td>\n",
       "      <td>...</td>\n",
       "      <td>...</td>\n",
       "    </tr>\n",
       "    <tr>\n",
       "      <td>45913</td>\n",
       "      <td>218</td>\n",
       "      <td>-4</td>\n",
       "      <td>551.02</td>\n",
       "      <td>1365.27</td>\n",
       "      <td>1147.43</td>\n",
       "      <td>137.97</td>\n",
       "      <td>42.68</td>\n",
       "      <td>130.21</td>\n",
       "      <td>9.4672</td>\n",
       "      <td>10.57</td>\n",
       "      <td>6.2985</td>\n",
       "      <td>3</td>\n",
       "    </tr>\n",
       "    <tr>\n",
       "      <td>45914</td>\n",
       "      <td>218</td>\n",
       "      <td>-3</td>\n",
       "      <td>550.07</td>\n",
       "      <td>1365.55</td>\n",
       "      <td>1142.21</td>\n",
       "      <td>137.56</td>\n",
       "      <td>42.62</td>\n",
       "      <td>130.24</td>\n",
       "      <td>9.4619</td>\n",
       "      <td>10.40</td>\n",
       "      <td>6.2741</td>\n",
       "      <td>3</td>\n",
       "    </tr>\n",
       "    <tr>\n",
       "      <td>45915</td>\n",
       "      <td>218</td>\n",
       "      <td>-2</td>\n",
       "      <td>549.92</td>\n",
       "      <td>1359.21</td>\n",
       "      <td>1150.15</td>\n",
       "      <td>138.05</td>\n",
       "      <td>42.83</td>\n",
       "      <td>129.86</td>\n",
       "      <td>9.4827</td>\n",
       "      <td>10.37</td>\n",
       "      <td>6.1978</td>\n",
       "      <td>3</td>\n",
       "    </tr>\n",
       "    <tr>\n",
       "      <td>45916</td>\n",
       "      <td>218</td>\n",
       "      <td>-1</td>\n",
       "      <td>556.55</td>\n",
       "      <td>1380.05</td>\n",
       "      <td>1145.49</td>\n",
       "      <td>194.59</td>\n",
       "      <td>42.61</td>\n",
       "      <td>182.03</td>\n",
       "      <td>9.4212</td>\n",
       "      <td>14.70</td>\n",
       "      <td>8.6761</td>\n",
       "      <td>4</td>\n",
       "    </tr>\n",
       "    <tr>\n",
       "      <td>45917</td>\n",
       "      <td>218</td>\n",
       "      <td>0</td>\n",
       "      <td>537.46</td>\n",
       "      <td>1274.65</td>\n",
       "      <td>1068.77</td>\n",
       "      <td>175.15</td>\n",
       "      <td>37.50</td>\n",
       "      <td>164.18</td>\n",
       "      <td>10.9748</td>\n",
       "      <td>14.19</td>\n",
       "      <td>8.5120</td>\n",
       "      <td>5</td>\n",
       "    </tr>\n",
       "  </tbody>\n",
       "</table>\n",
       "<p>45918 rows × 12 columns</p>\n",
       "</div>"
      ],
      "text/plain": [
       "       A/C No.  Time     T24      T30      T50     P30   Ps30     phi  \\\n",
       "0            1  -222  604.13  1499.45  1309.95  394.88  45.40  372.15   \n",
       "1            1  -221  642.13  1584.55  1403.96  553.67  47.29  521.81   \n",
       "2            1  -220  555.42  1368.17  1122.49  194.93  41.92  183.26   \n",
       "3            1  -219  607.03  1488.44  1249.18  334.82  44.26  314.84   \n",
       "4            1  -218  549.52  1354.48  1124.32  138.24  41.79  130.44   \n",
       "...        ...   ...     ...      ...      ...     ...    ...     ...   \n",
       "45913      218    -4  551.02  1365.27  1147.43  137.97  42.68  130.21   \n",
       "45914      218    -3  550.07  1365.55  1142.21  137.56  42.62  130.24   \n",
       "45915      218    -2  549.92  1359.21  1150.15  138.05  42.83  129.86   \n",
       "45916      218    -1  556.55  1380.05  1145.49  194.59  42.61  182.03   \n",
       "45917      218     0  537.46  1274.65  1068.77  175.15  37.50  164.18   \n",
       "\n",
       "           BPR    W31      W32  OpsMode  \n",
       "0       8.6216  28.58  17.1735        2  \n",
       "1       8.3907  38.99  23.3619        6  \n",
       "2       9.3557  14.83   8.8555        4  \n",
       "3       9.2231  24.42  14.7832        1  \n",
       "4       9.2986  10.99   6.4025        3  \n",
       "...        ...    ...      ...      ...  \n",
       "45913   9.4672  10.57   6.2985        3  \n",
       "45914   9.4619  10.40   6.2741        3  \n",
       "45915   9.4827  10.37   6.1978        3  \n",
       "45916   9.4212  14.70   8.6761        4  \n",
       "45917  10.9748  14.19   8.5120        5  \n",
       "\n",
       "[45918 rows x 12 columns]"
      ]
     },
     "execution_count": 300,
     "metadata": {},
     "output_type": "execute_result"
    }
   ],
   "source": [
    "X_new = PCA_train\n",
    "X_new.shape[0]\n",
    "X_new"
   ]
  },
  {
   "cell_type": "code",
   "execution_count": 287,
   "metadata": {
    "collapsed": true
   },
   "outputs": [],
   "source": [
    "Xi_new = X_new[X_new['OpsMode'] == 1]\n",
    "Xi_new = Xi_new.drop(['OpsMode','A/C No.'],axis=1)\n",
    "# yi_new = np.where(Xi_new['Time']>-5,0,1)\n",
    "Time = Xi_new['Time']\n",
    "# T = Xi_new[(Xi_new['Time']<-300)|(Xi_new['Time']>-5)]\n",
    "# print(T.shape[0])\n",
    "Xi_new = Xi_new.drop('Time',axis=1)\n",
    "scaler.fit(Xi_new)\n",
    "Xii_new = scaler.transform(Xi_new)"
   ]
  },
  {
   "cell_type": "code",
   "execution_count": 288,
   "metadata": {
    "collapsed": true
   },
   "outputs": [],
   "source": [
    "# print(Xi_new)\n",
    "# Xii_new\n",
    "# Time.shape[0]\n",
    "index_list = Xi_new.index.tolist()"
   ]
  },
  {
   "cell_type": "code",
   "execution_count": 289,
   "metadata": {
    "collapsed": true
   },
   "outputs": [],
   "source": [
    "from sklearn.decomposition import PCA\n",
    "pca = PCA(n_components=5)\n",
    "principalComponents = pca.fit_transform(Xii_new)\n",
    "principalDf = pd.DataFrame(data = principalComponents\n",
    "             , columns = ['component 1', 'component 2','component 3','component 4','component 5'])\n",
    "\n"
   ]
  },
  {
   "cell_type": "code",
   "execution_count": 290,
   "metadata": {},
   "outputs": [
    {
     "data": {
      "text/html": [
       "<div>\n",
       "<style scoped>\n",
       "    .dataframe tbody tr th:only-of-type {\n",
       "        vertical-align: middle;\n",
       "    }\n",
       "\n",
       "    .dataframe tbody tr th {\n",
       "        vertical-align: top;\n",
       "    }\n",
       "\n",
       "    .dataframe thead th {\n",
       "        text-align: right;\n",
       "    }\n",
       "</style>\n",
       "<table border=\"1\" class=\"dataframe\">\n",
       "  <thead>\n",
       "    <tr style=\"text-align: right;\">\n",
       "      <th></th>\n",
       "      <th>component 1</th>\n",
       "      <th>component 2</th>\n",
       "      <th>component 3</th>\n",
       "      <th>component 4</th>\n",
       "      <th>component 5</th>\n",
       "      <th>Time</th>\n",
       "    </tr>\n",
       "  </thead>\n",
       "  <tbody>\n",
       "    <tr>\n",
       "      <td>3</td>\n",
       "      <td>-0.217832</td>\n",
       "      <td>0.174280</td>\n",
       "      <td>0.025590</td>\n",
       "      <td>0.045614</td>\n",
       "      <td>0.075503</td>\n",
       "      <td>-219</td>\n",
       "    </tr>\n",
       "    <tr>\n",
       "      <td>5</td>\n",
       "      <td>-0.130630</td>\n",
       "      <td>0.040982</td>\n",
       "      <td>-0.047401</td>\n",
       "      <td>-0.068545</td>\n",
       "      <td>-0.072720</td>\n",
       "      <td>-217</td>\n",
       "    </tr>\n",
       "    <tr>\n",
       "      <td>22</td>\n",
       "      <td>-0.158047</td>\n",
       "      <td>-0.094811</td>\n",
       "      <td>0.050571</td>\n",
       "      <td>0.022431</td>\n",
       "      <td>-0.076721</td>\n",
       "      <td>-200</td>\n",
       "    </tr>\n",
       "    <tr>\n",
       "      <td>30</td>\n",
       "      <td>-0.157445</td>\n",
       "      <td>0.138755</td>\n",
       "      <td>0.097476</td>\n",
       "      <td>-0.032440</td>\n",
       "      <td>-0.065060</td>\n",
       "      <td>-192</td>\n",
       "    </tr>\n",
       "    <tr>\n",
       "      <td>44</td>\n",
       "      <td>-0.159792</td>\n",
       "      <td>-0.069938</td>\n",
       "      <td>0.101075</td>\n",
       "      <td>0.048589</td>\n",
       "      <td>-0.086072</td>\n",
       "      <td>-178</td>\n",
       "    </tr>\n",
       "    <tr>\n",
       "      <td>...</td>\n",
       "      <td>...</td>\n",
       "      <td>...</td>\n",
       "      <td>...</td>\n",
       "      <td>...</td>\n",
       "      <td>...</td>\n",
       "      <td>...</td>\n",
       "    </tr>\n",
       "    <tr>\n",
       "      <td>45875</td>\n",
       "      <td>0.023654</td>\n",
       "      <td>0.015614</td>\n",
       "      <td>0.167513</td>\n",
       "      <td>-0.057532</td>\n",
       "      <td>-0.130528</td>\n",
       "      <td>-42</td>\n",
       "    </tr>\n",
       "    <tr>\n",
       "      <td>45879</td>\n",
       "      <td>0.134022</td>\n",
       "      <td>-0.038827</td>\n",
       "      <td>0.024681</td>\n",
       "      <td>0.033662</td>\n",
       "      <td>-0.064624</td>\n",
       "      <td>-38</td>\n",
       "    </tr>\n",
       "    <tr>\n",
       "      <td>45880</td>\n",
       "      <td>0.318786</td>\n",
       "      <td>0.117261</td>\n",
       "      <td>-0.073373</td>\n",
       "      <td>-0.021753</td>\n",
       "      <td>0.002009</td>\n",
       "      <td>-37</td>\n",
       "    </tr>\n",
       "    <tr>\n",
       "      <td>45894</td>\n",
       "      <td>0.335004</td>\n",
       "      <td>-0.014565</td>\n",
       "      <td>-0.062558</td>\n",
       "      <td>-0.017749</td>\n",
       "      <td>0.028410</td>\n",
       "      <td>-23</td>\n",
       "    </tr>\n",
       "    <tr>\n",
       "      <td>45901</td>\n",
       "      <td>0.322961</td>\n",
       "      <td>-0.093815</td>\n",
       "      <td>0.214930</td>\n",
       "      <td>-0.047721</td>\n",
       "      <td>0.091871</td>\n",
       "      <td>-16</td>\n",
       "    </tr>\n",
       "  </tbody>\n",
       "</table>\n",
       "<p>6771 rows × 6 columns</p>\n",
       "</div>"
      ],
      "text/plain": [
       "       component 1  component 2  component 3  component 4  component 5  Time\n",
       "3        -0.217832     0.174280     0.025590     0.045614     0.075503  -219\n",
       "5        -0.130630     0.040982    -0.047401    -0.068545    -0.072720  -217\n",
       "22       -0.158047    -0.094811     0.050571     0.022431    -0.076721  -200\n",
       "30       -0.157445     0.138755     0.097476    -0.032440    -0.065060  -192\n",
       "44       -0.159792    -0.069938     0.101075     0.048589    -0.086072  -178\n",
       "...            ...          ...          ...          ...          ...   ...\n",
       "45875     0.023654     0.015614     0.167513    -0.057532    -0.130528   -42\n",
       "45879     0.134022    -0.038827     0.024681     0.033662    -0.064624   -38\n",
       "45880     0.318786     0.117261    -0.073373    -0.021753     0.002009   -37\n",
       "45894     0.335004    -0.014565    -0.062558    -0.017749     0.028410   -23\n",
       "45901     0.322961    -0.093815     0.214930    -0.047721     0.091871   -16\n",
       "\n",
       "[6771 rows x 6 columns]"
      ]
     },
     "execution_count": 290,
     "metadata": {},
     "output_type": "execute_result"
    }
   ],
   "source": [
    "principalDf.index = index_list\n",
    "principalDf['Time'] = Time\n",
    "principalDf"
   ]
  },
  {
   "cell_type": "code",
   "execution_count": 291,
   "metadata": {},
   "outputs": [
    {
     "data": {
      "text/html": [
       "<div>\n",
       "<style scoped>\n",
       "    .dataframe tbody tr th:only-of-type {\n",
       "        vertical-align: middle;\n",
       "    }\n",
       "\n",
       "    .dataframe tbody tr th {\n",
       "        vertical-align: top;\n",
       "    }\n",
       "\n",
       "    .dataframe thead th {\n",
       "        text-align: right;\n",
       "    }\n",
       "</style>\n",
       "<table border=\"1\" class=\"dataframe\">\n",
       "  <thead>\n",
       "    <tr style=\"text-align: right;\">\n",
       "      <th></th>\n",
       "      <th>component 1</th>\n",
       "      <th>component 2</th>\n",
       "      <th>component 3</th>\n",
       "      <th>component 4</th>\n",
       "      <th>component 5</th>\n",
       "      <th>Time</th>\n",
       "    </tr>\n",
       "  </thead>\n",
       "  <tbody>\n",
       "    <tr>\n",
       "      <td>221</td>\n",
       "      <td>0.794081</td>\n",
       "      <td>0.011262</td>\n",
       "      <td>0.069000</td>\n",
       "      <td>0.030299</td>\n",
       "      <td>-0.110769</td>\n",
       "      <td>-1</td>\n",
       "    </tr>\n",
       "    <tr>\n",
       "      <td>692</td>\n",
       "      <td>0.762398</td>\n",
       "      <td>0.012551</td>\n",
       "      <td>0.103292</td>\n",
       "      <td>0.193820</td>\n",
       "      <td>-0.106091</td>\n",
       "      <td>-3</td>\n",
       "    </tr>\n",
       "    <tr>\n",
       "      <td>694</td>\n",
       "      <td>0.899629</td>\n",
       "      <td>0.139934</td>\n",
       "      <td>-0.068123</td>\n",
       "      <td>-0.166461</td>\n",
       "      <td>-0.054003</td>\n",
       "      <td>-1</td>\n",
       "    </tr>\n",
       "    <tr>\n",
       "      <td>696</td>\n",
       "      <td>-0.301878</td>\n",
       "      <td>0.021537</td>\n",
       "      <td>-0.141284</td>\n",
       "      <td>-0.044853</td>\n",
       "      <td>0.013448</td>\n",
       "      <td>-356</td>\n",
       "    </tr>\n",
       "    <tr>\n",
       "      <td>700</td>\n",
       "      <td>-0.322468</td>\n",
       "      <td>-0.184959</td>\n",
       "      <td>0.014427</td>\n",
       "      <td>-0.156926</td>\n",
       "      <td>-0.190773</td>\n",
       "      <td>-352</td>\n",
       "    </tr>\n",
       "    <tr>\n",
       "      <td>...</td>\n",
       "      <td>...</td>\n",
       "      <td>...</td>\n",
       "      <td>...</td>\n",
       "      <td>...</td>\n",
       "      <td>...</td>\n",
       "      <td>...</td>\n",
       "    </tr>\n",
       "    <tr>\n",
       "      <td>44458</td>\n",
       "      <td>0.638990</td>\n",
       "      <td>0.005139</td>\n",
       "      <td>0.097720</td>\n",
       "      <td>-0.126810</td>\n",
       "      <td>-0.178358</td>\n",
       "      <td>-3</td>\n",
       "    </tr>\n",
       "    <tr>\n",
       "      <td>44459</td>\n",
       "      <td>0.496797</td>\n",
       "      <td>-0.031324</td>\n",
       "      <td>-0.106143</td>\n",
       "      <td>0.133061</td>\n",
       "      <td>0.159869</td>\n",
       "      <td>-2</td>\n",
       "    </tr>\n",
       "    <tr>\n",
       "      <td>45147</td>\n",
       "      <td>0.855360</td>\n",
       "      <td>0.148312</td>\n",
       "      <td>-0.129959</td>\n",
       "      <td>-0.003507</td>\n",
       "      <td>-0.017741</td>\n",
       "      <td>-4</td>\n",
       "    </tr>\n",
       "    <tr>\n",
       "      <td>45149</td>\n",
       "      <td>0.831653</td>\n",
       "      <td>-0.144288</td>\n",
       "      <td>0.072635</td>\n",
       "      <td>-0.084747</td>\n",
       "      <td>-0.084595</td>\n",
       "      <td>-2</td>\n",
       "    </tr>\n",
       "    <tr>\n",
       "      <td>45494</td>\n",
       "      <td>0.555992</td>\n",
       "      <td>-0.108753</td>\n",
       "      <td>-0.004576</td>\n",
       "      <td>-0.028720</td>\n",
       "      <td>-0.012185</td>\n",
       "      <td>-3</td>\n",
       "    </tr>\n",
       "  </tbody>\n",
       "</table>\n",
       "<p>169 rows × 6 columns</p>\n",
       "</div>"
      ],
      "text/plain": [
       "       component 1  component 2  component 3  component 4  component 5  Time\n",
       "221       0.794081     0.011262     0.069000     0.030299    -0.110769    -1\n",
       "692       0.762398     0.012551     0.103292     0.193820    -0.106091    -3\n",
       "694       0.899629     0.139934    -0.068123    -0.166461    -0.054003    -1\n",
       "696      -0.301878     0.021537    -0.141284    -0.044853     0.013448  -356\n",
       "700      -0.322468    -0.184959     0.014427    -0.156926    -0.190773  -352\n",
       "...            ...          ...          ...          ...          ...   ...\n",
       "44458     0.638990     0.005139     0.097720    -0.126810    -0.178358    -3\n",
       "44459     0.496797    -0.031324    -0.106143     0.133061     0.159869    -2\n",
       "45147     0.855360     0.148312    -0.129959    -0.003507    -0.017741    -4\n",
       "45149     0.831653    -0.144288     0.072635    -0.084747    -0.084595    -2\n",
       "45494     0.555992    -0.108753    -0.004576    -0.028720    -0.012185    -3\n",
       "\n",
       "[169 rows x 6 columns]"
      ]
     },
     "execution_count": 291,
     "metadata": {},
     "output_type": "execute_result"
    }
   ],
   "source": [
    "Xii = principalDf[(principalDf['Time']<-300) | (principalDf['Time']>-5)]\n",
    "yi = np.where(Xii['Time']>-5,0,1)\n",
    "Xii.shape[0]\n",
    "Xii"
   ]
  },
  {
   "cell_type": "code",
   "execution_count": 292,
   "metadata": {},
   "outputs": [
    {
     "data": {
      "text/plain": [
       "array([0.65009283, 0.06158455, 0.05732777, 0.04807566, 0.04713777])"
      ]
     },
     "execution_count": 292,
     "metadata": {},
     "output_type": "execute_result"
    }
   ],
   "source": [
    "pca.explained_variance_ratio_"
   ]
  },
  {
   "cell_type": "code",
   "execution_count": 293,
   "metadata": {},
   "outputs": [
    {
     "name": "stdout",
     "output_type": "stream",
     "text": [
      "0.9977891587207861\n"
     ]
    }
   ],
   "source": [
    "Xi_train, Xi_test, yi_train, yi_test = train_test_split(Xii, yi, test_size=0.2, random_state=0)\n",
    "regressor = LinearRegression()\n",
    "Mi = regressor.fit(Xi_train,yi_train)\n",
    "yi_pred = Mi.predict(Xi_test)\n",
    "print(r2_score(yi_test,yi_pred))"
   ]
  },
  {
   "cell_type": "code",
   "execution_count": 279,
   "metadata": {},
   "outputs": [
    {
     "data": {
      "text/plain": [
       "Text(0.5, 0, 'Time')"
      ]
     },
     "execution_count": 279,
     "metadata": {},
     "output_type": "execute_result"
    },
    {
     "data": {
      "image/png": "[encoded data removed]",
      "text/plain": [
       "<Figure size 432x288 with 1 Axes>"
      ]
     },
     "metadata": {},
     "output_type": "display_data"
    }
   ],
   "source": [
    "import seaborn as sns\n",
    "sns.set()\n",
    "# d = principalDf[train['OpsMode']==1]\n",
    "y = principalDf['component 1']\n",
    "x = principalDf['Time']\n",
    "ax = plt.scatter(x ,y)\n",
    "plt.ylabel('Component1')\n",
    "plt.xlabel('Time')"
   ]
  },
  {
   "cell_type": "code",
   "execution_count": 310,
   "metadata": {
    "collapsed": true
   },
   "outputs": [],
   "source": [
    "#after applying PCA on the data\n",
    "scaler = MinMaxScaler()\n",
    "M = []\n",
    "score = []\n",
    "X = PCA_train\n",
    "for i in range (1,7):\n",
    "    Xi = X[X['OpsMode'] == i]\n",
    "    Xii = Xi.drop(['OpsMode','A/C No.'],axis=1)\n",
    "    Time = Xii['Time']\n",
    "    Xii = Xii.drop('Time',axis=1)\n",
    "    scaler.fit(Xii)\n",
    "    Xii = scaler.transform(Xii)\n",
    "    index_list = Xi.index.tolist()\n",
    "    pca = PCA(n_components=5)\n",
    "    principalComponents = pca.fit_transform(Xii)\n",
    "    principalDf = pd.DataFrame(data = principalComponents\n",
    "             , columns = ['component 1', 'component 2','component 3','component 4','component 5'])\n",
    "    principalDf.index = index_list\n",
    "    principalDf['Time'] = Time\n",
    "    Xii = principalDf[(principalDf['Time']<-300) | (principalDf['Time']>-5)]\n",
    "    yi = np.where(Xii['Time']>-5,0,1)\n",
    "\n",
    "    Xi_train, Xi_test, yi_train, yi_test = train_test_split(Xii, yi, test_size=0.2, random_state=0)\n",
    "    regressor = LinearRegression()\n",
    "    Mi = regressor.fit(Xi_train,yi_train)\n",
    "    yi_pred = Mi.predict(Xi_test)\n",
    "    score.append(r2_score(yi_test,yi_pred))\n",
    "    coeff_df = pd.DataFrame(Mi.coef_, columns = ['Coefficient'])\n",
    "    M.append(Mi)"
   ]
  },
  {
   "cell_type": "code",
   "execution_count": 311,
   "metadata": {
    "collapsed": true
   },
   "outputs": [],
   "source": [
    "scaler = MinMaxScaler()\n",
    "data = []\n",
    "for i in range(1,7):\n",
    "    Xi = X[X['OpsMode'] == i]\n",
    "    Xii = Xi.drop(['OpsMode','A/C No.'],axis=1)\n",
    "    Time = Xii['Time']\n",
    "    Xii = Xii.drop('Time',axis=1)\n",
    "    scaler.fit(Xii)\n",
    "    Xii = scaler.transform(Xii)\n",
    "    index_list = Xi.index.tolist()\n",
    "    pca = PCA(n_components=5)\n",
    "    principalComponents = pca.fit_transform(Xii)\n",
    "    principalDf = pd.DataFrame(data = principalComponents\n",
    "             , columns = ['component 1', 'component 2','component 3','component 4','component 5'])\n",
    "    principalDf.index = index_list\n",
    "    principalDf['Time'] = Time\n",
    "    Xii = principalDf\n",
    "    Xi = Xi.drop(['T24','T30','T50','P30','Ps30','phi','BPR','OpsMode','W32','W31'],axis = 1)\n",
    "    yi = M[i-1].predict(Xii)\n",
    "    Xi['HI'] = yi\n",
    "    data.append(Xi)"
   ]
  },
  {
   "cell_type": "code",
   "execution_count": 312,
   "metadata": {
    "collapsed": true
   },
   "outputs": [],
   "source": [
    "df = pd.concat(data)\n",
    "df.sort_index(inplace = True)"
   ]
  },
  {
   "cell_type": "code",
   "execution_count": 313,
   "metadata": {},
   "outputs": [
    {
     "data": {
      "text/html": [
       "<div>\n",
       "<style scoped>\n",
       "    .dataframe tbody tr th:only-of-type {\n",
       "        vertical-align: middle;\n",
       "    }\n",
       "\n",
       "    .dataframe tbody tr th {\n",
       "        vertical-align: top;\n",
       "    }\n",
       "\n",
       "    .dataframe thead th {\n",
       "        text-align: right;\n",
       "    }\n",
       "</style>\n",
       "<table border=\"1\" class=\"dataframe\">\n",
       "  <thead>\n",
       "    <tr style=\"text-align: right;\">\n",
       "      <th></th>\n",
       "      <th>A/C No.</th>\n",
       "      <th>Time</th>\n",
       "      <th>HI</th>\n",
       "    </tr>\n",
       "  </thead>\n",
       "  <tbody>\n",
       "    <tr>\n",
       "      <td>0</td>\n",
       "      <td>1</td>\n",
       "      <td>-222</td>\n",
       "      <td>0.697729</td>\n",
       "    </tr>\n",
       "    <tr>\n",
       "      <td>1</td>\n",
       "      <td>1</td>\n",
       "      <td>-221</td>\n",
       "      <td>0.704228</td>\n",
       "    </tr>\n",
       "    <tr>\n",
       "      <td>2</td>\n",
       "      <td>1</td>\n",
       "      <td>-220</td>\n",
       "      <td>0.695381</td>\n",
       "    </tr>\n",
       "    <tr>\n",
       "      <td>3</td>\n",
       "      <td>1</td>\n",
       "      <td>-219</td>\n",
       "      <td>0.674670</td>\n",
       "    </tr>\n",
       "    <tr>\n",
       "      <td>4</td>\n",
       "      <td>1</td>\n",
       "      <td>-218</td>\n",
       "      <td>0.676649</td>\n",
       "    </tr>\n",
       "    <tr>\n",
       "      <td>...</td>\n",
       "      <td>...</td>\n",
       "      <td>...</td>\n",
       "      <td>...</td>\n",
       "    </tr>\n",
       "    <tr>\n",
       "      <td>45913</td>\n",
       "      <td>218</td>\n",
       "      <td>-4</td>\n",
       "      <td>0.001784</td>\n",
       "    </tr>\n",
       "    <tr>\n",
       "      <td>45914</td>\n",
       "      <td>218</td>\n",
       "      <td>-3</td>\n",
       "      <td>0.006282</td>\n",
       "    </tr>\n",
       "    <tr>\n",
       "      <td>45915</td>\n",
       "      <td>218</td>\n",
       "      <td>-2</td>\n",
       "      <td>-0.003054</td>\n",
       "    </tr>\n",
       "    <tr>\n",
       "      <td>45916</td>\n",
       "      <td>218</td>\n",
       "      <td>-1</td>\n",
       "      <td>-0.002218</td>\n",
       "    </tr>\n",
       "    <tr>\n",
       "      <td>45917</td>\n",
       "      <td>218</td>\n",
       "      <td>0</td>\n",
       "      <td>-0.005260</td>\n",
       "    </tr>\n",
       "  </tbody>\n",
       "</table>\n",
       "<p>45918 rows × 3 columns</p>\n",
       "</div>"
      ],
      "text/plain": [
       "       A/C No.  Time        HI\n",
       "0            1  -222  0.697729\n",
       "1            1  -221  0.704228\n",
       "2            1  -220  0.695381\n",
       "3            1  -219  0.674670\n",
       "4            1  -218  0.676649\n",
       "...        ...   ...       ...\n",
       "45913      218    -4  0.001784\n",
       "45914      218    -3  0.006282\n",
       "45915      218    -2 -0.003054\n",
       "45916      218    -1 -0.002218\n",
       "45917      218     0 -0.005260\n",
       "\n",
       "[45918 rows x 3 columns]"
      ]
     },
     "execution_count": 313,
     "metadata": {},
     "output_type": "execute_result"
    }
   ],
   "source": [
    "df"
   ]
  },
  {
   "cell_type": "code",
   "execution_count": 315,
   "metadata": {},
   "outputs": [
    {
     "data": {
      "image/png": "[encoded data removed]",
      "text/plain": [
       "<Figure size 360x360 with 1 Axes>"
      ]
     },
     "metadata": {},
     "output_type": "display_data"
    }
   ],
   "source": [
    "import seaborn as sns\n",
    "sns.set()\n",
    "d = df[df['A/C No.']==1]\n",
    "ax = sns.lmplot(x = 'Time',y = 'HI',data = d)"
   ]
  },
  {
   "cell_type": "code",
   "execution_count": null,
   "metadata": {
    "collapsed": true
   },
   "outputs": [],
   "source": []
  }
 ],
 "metadata": {
  "kernelspec": {
   "display_name": "Python 3",
   "language": "python",
   "name": "python3"
  },
  "language_info": {
   "codemirror_mode": {
    "name": "ipython",
    "version": 3
   },
   "file_extension": ".py",
   "mimetype": "text/x-python",
   "name": "python",
   "nbconvert_exporter": "python",
   "pygments_lexer": "ipython3",
   "version": "3.6.3"
  }
 },
 "nbformat": 4,
 "nbformat_minor": 2
}
