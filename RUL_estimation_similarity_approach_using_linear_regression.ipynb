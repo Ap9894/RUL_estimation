{
 "cells": [
  {
   "cell_type": "code",
   "execution_count": 110,
   "metadata": {
    "collapsed": true
   },
   "outputs": [],
   "source": [
    "import pandas as pd\n",
    "import numpy as np\n",
    "import matplotlib.pyplot as plt"
   ]
  },
  {
   "cell_type": "code",
   "execution_count": 111,
   "metadata": {},
   "outputs": [],
   "source": [
    "train = pd.read_csv('training_new.csv')\n",
    "# test = pd.read_csv('challenge_data.csv')"
   ]
  },
  {
   "cell_type": "code",
   "execution_count": 112,
   "metadata": {},
   "outputs": [],
   "source": [
    "# train = train.drop('Ops Mode',axis = 1)"
   ]
  },
  {
   "cell_type": "code",
   "execution_count": 113,
   "metadata": {
    "collapsed": true
   },
   "outputs": [],
   "source": [
    "TRA = train['TRA']\n",
    "OpsMode = []\n",
    "for x in TRA:\n",
    "#     if x == 0:\n",
    "#         OpsMode.append(1)\n",
    "#     if x == 20:\n",
    "#         OpsMode.append(2)\n",
    "#     if x == 40:\n",
    "#         OpsMode.append(3)\n",
    "#     if x == 60:\n",
    "#         OpsMode.append(4)\n",
    "#     if x == 80:\n",
    "#         OpsMode.append(5)\n",
    "#     if x == 100:\n",
    "#         OpsMode.append(6)\n",
    "    if x == 60:\n",
    "        OpsMode.append(1)\n",
    "    if x == 100:\n",
    "        OpsMode.append(2)\n",
    "    \n"
   ]
  },
  {
   "cell_type": "code",
   "execution_count": 114,
   "metadata": {
    "collapsed": true
   },
   "outputs": [],
   "source": [
    "train['OpsMode'] = OpsMode\n",
    "train = train.drop(['Altitude','Mach No','TRA'],axis=1)"
   ]
  },
  {
   "cell_type": "code",
   "execution_count": 115,
   "metadata": {},
   "outputs": [],
   "source": [
    "unitlife = []\n",
    "n = train['A/C'].nunique()"
   ]
  },
  {
   "cell_type": "code",
   "execution_count": 116,
   "metadata": {
    "collapsed": true
   },
   "outputs": [],
   "source": [
    "for i in range(1,n+1):\n",
    "    k = train[train['A/C'] == i].shape[0]\n",
    "    unitlife += k*[k]"
   ]
  },
  {
   "cell_type": "code",
   "execution_count": 117,
   "metadata": {
    "collapsed": true
   },
   "outputs": [],
   "source": [
    "train['unitlife'] = unitlife\n",
    "train['Time'] = train['Time']-train['unitlife']\n",
    "train = train.drop('unitlife',axis = 1)"
   ]
  },
  {
   "cell_type": "code",
   "execution_count": 118,
   "metadata": {
    "collapsed": true
   },
   "outputs": [],
   "source": [
    "import seaborn as sns\n",
    "from sklearn.model_selection import train_test_split \n",
    "from sklearn.linear_model import LinearRegression\n",
    "from sklearn import metrics\n",
    "from sklearn.preprocessing import MinMaxScaler,StandardScaler\n",
    "%matplotlib inline"
   ]
  },
  {
   "cell_type": "code",
   "execution_count": 119,
   "metadata": {
    "collapsed": true
   },
   "outputs": [],
   "source": [
    "cols = ['T2','P2','P15','Nf','Nc','EPR','NRf','Nrc','farB','htBleed','Nf_dmd','PCNfR_dmd','W31','W32']\n",
    "train = train.drop(cols,axis = 1)\n",
    "# test = test.drop(cols,axis = 1)"
   ]
  },
  {
   "cell_type": "code",
   "execution_count": 120,
   "metadata": {
    "collapsed": true
   },
   "outputs": [],
   "source": [
    "X = train[(train['Time']<-300) | (train['Time']>-5)]\n",
    "X = X.drop('A/C',axis = 1)"
   ]
  },
  {
   "cell_type": "code",
   "execution_count": 121,
   "metadata": {
    "collapsed": true
   },
   "outputs": [],
   "source": [
    "from sklearn.model_selection import train_test_split\n",
    "from sklearn.metrics import r2_score"
   ]
  },
  {
   "cell_type": "code",
   "execution_count": 122,
   "metadata": {},
   "outputs": [],
   "source": [
    "scaler = MinMaxScaler()\n",
    "M = []\n",
    "score = []\n",
    "# for i in range (1,7):\n",
    "for i in range (1,3):\n",
    "    Xi = X[X['OpsMode'] == i]\n",
    "    \n",
    "    Xi = Xi.drop('OpsMode',axis=1)\n",
    "#     print(Xi.shape[0])\n",
    "    yi = np.where(Xi['Time']>-5,0,1)\n",
    "    Time = Xi['Time']\n",
    "    Xi = Xi.drop('Time',axis=1)\n",
    "    scaler.fit(Xi)\n",
    "    Xi = scaler.transform(Xi)\n",
    "    Xi_train, Xi_test, yi_train, yi_test = train_test_split(Xi, yi, test_size=0.2, random_state=0)\n",
    "    regressor = LinearRegression()\n",
    "    Mi = regressor.fit(Xi_train,yi_train)\n",
    "    yi_pred = Mi.predict(Xi_test)\n",
    "    score.append(r2_score(yi_test,yi_pred))\n",
    "    coeff_df = pd.DataFrame(Mi.coef_, columns = ['Coefficient'])\n",
    "#     print(coeff_df)\n",
    "    M.append(Mi)"
   ]
  },
  {
   "cell_type": "code",
   "execution_count": 124,
   "metadata": {},
   "outputs": [],
   "source": [
    "\n",
    "scaler = MinMaxScaler()\n",
    "data = []\n",
    "# for i in range(1,7):\n",
    "for i in range (1,3):\n",
    "    Xi = train[train['OpsMode'] == i]\n",
    "    Xii = Xi.drop(['A/C','OpsMode','Time'],axis = 1)\n",
    "    Xi = Xi.drop(['T24','T30','T50','P30','Ps30','phi','BPR','OpsMode'],axis = 1)\n",
    "    scaler.fit(Xii)\n",
    "    Xii = scaler.transform(Xii)\n",
    "    yi = M[i-1].predict(Xii)\n",
    "    Xi['HI'] = yi\n",
    "    data.append(Xi)"
   ]
  },
  {
   "cell_type": "code",
   "execution_count": 125,
   "metadata": {
    "collapsed": true
   },
   "outputs": [],
   "source": [
    "df = pd.concat(data)\n",
    "df.sort_index(inplace = True)"
   ]
  },
  {
   "cell_type": "code",
   "execution_count": null,
   "metadata": {},
   "outputs": [],
   "source": []
  },
  {
   "cell_type": "code",
   "execution_count": 127,
   "metadata": {},
   "outputs": [
    {
     "name": "stdout",
     "output_type": "stream",
     "text": [
      "[-0.29686316  0.01389891  1.09184468  0.03981709]\n",
      "[[-3.60771576e+10 -5.50955036e+00 -1.21527902e+11 -5.46259268e+02]\n",
      " [-5.50955732e+00  1.18502778e-06 -1.85592431e+01 -2.16108767e-05]\n",
      " [-1.21527902e+11 -1.85592236e+01 -4.09373465e+11 -1.84010523e+03]\n",
      " [-5.46258983e+02 -2.16108765e-05 -1.84010427e+03  7.83016095e-04]]\n"
     ]
    },
    {
     "data": {
      "image/png": "[encoded data removed]",
      "text/plain": [
       "<Figure size 432x288 with 1 Axes>"
      ]
     },
     "metadata": {},
     "output_type": "display_data"
    }
   ],
   "source": [
    "d = df[df['A/C']==11]\n",
    "from scipy.optimize import curve_fit\n",
    "def func(x,a,b,c,d):\n",
    "    return a*(np.exp(b*x+c)-np.exp(c))+d\n",
    "x = np.array(d['Time'])\n",
    "y = d['HI']\n",
    "popt, pcov = curve_fit(func,x,y,absolute_sigma=False)\n",
    "plt.plot(x,func(x,*popt))\n",
    "plt.ylabel('HI')\n",
    "plt.xlabel('Time')\n",
    "plt.scatter(x,y)\n",
    "print(popt)\n",
    "print(pcov)"
   ]
  },
  {
   "cell_type": "code",
   "execution_count": 128,
   "metadata": {},
   "outputs": [
    {
     "name": "stderr",
     "output_type": "stream",
     "text": [
      "/anaconda/anaconda3/lib/python3.6/site-packages/ipykernel_launcher.py:3: RuntimeWarning: overflow encountered in exp\n",
      "  This is separate from the ipykernel package so we can avoid doing imports until\n"
     ]
    }
   ],
   "source": [
    "from scipy.optimize import curve_fit\n",
    "def func(x,a,b,c,d):\n",
    "    return a*(np.exp(b*x+c)-np.exp(c))+d\n",
    "def func1(x,a,b,c):\n",
    "    return a*(np.exp(b*x+c)-np.exp(c))\n",
    "fitted_curve_parameters = []\n",
    "covariance = []\n",
    "var = 0\n",
    "for i in range(1,n+1):\n",
    "    data = df[df['A/C'] == i]\n",
    "    x = np.array(data['Time'])\n",
    "    y = np.array(data['HI'])\n",
    "    popt, pcov = curve_fit(func,x,y)\n",
    "    \n",
    "    var = 0\n",
    "    for j in range(4):\n",
    "        var = var + pcov[j][j]*pcov[j][j]\n",
    "#     if(var == float('inf')) :\n",
    "#         popt, pcov = curve_fit(func1,x,y)\n",
    "#         var = 0\n",
    "#         for j in range(3):\n",
    "#             var = var+pcov[j][j]*pcov[j][j]\n",
    "            \n",
    "    fitted_curve_parameters.append(popt)        \n",
    "    covariance.append(var)\n",
    "#some of the units do not have optimised parameters we will have to discard those units\n",
    "# print(popt)\n",
    "# print(pcov)"
   ]
  },
  {
   "cell_type": "code",
   "execution_count": 129,
   "metadata": {},
   "outputs": [
    {
     "data": {
      "text/plain": [
       "260"
      ]
     },
     "execution_count": 129,
     "metadata": {},
     "output_type": "execute_result"
    }
   ],
   "source": [
    "len(covariance)\n"
   ]
  },
  {
   "cell_type": "code",
   "execution_count": 130,
   "metadata": {
    "collapsed": true
   },
   "outputs": [],
   "source": [
    "test = pd.read_csv('testing_new.csv')"
   ]
  },
  {
   "cell_type": "code",
   "execution_count": 131,
   "metadata": {
    "collapsed": true
   },
   "outputs": [],
   "source": [
    "test_data = test\n",
    "cols = ['T2','P2','P15','Nf','Nc','EPR','NRf','Nrc','farB','htBleed','Nf_dmd','PCNfR_dmd','W31','W32']\n",
    "test_data = test_data.drop(cols,axis = 1)"
   ]
  },
  {
   "cell_type": "code",
   "execution_count": 132,
   "metadata": {
    "collapsed": true
   },
   "outputs": [],
   "source": [
    "TRA1 = test_data['TRA']\n",
    "OpsMode1 = []\n",
    "for x in TRA1:\n",
    "#     if (x == 0 or x == '0'):\n",
    "#         OpsMode1.append(1)\n",
    "#     if (x == 20 or x == '20'):\n",
    "#         OpsMode1.append(2)\n",
    "#     if (x == 40 or x == '40'):\n",
    "#         OpsMode1.append(3)\n",
    "#     if (x == 60 or x == '60'):\n",
    "#         OpsMode1.append(4)\n",
    "#     if (x == 80 or x == '80'):\n",
    "#         OpsMode1.append(5)\n",
    "#     if (x == 100 or x == '100'):\n",
    "#         OpsMode1.append(6)\n",
    "#     if x == 'TRA' :\n",
    "#         OpsMode1.append(-1)\n",
    "    if x == 60:\n",
    "        OpsMode1.append(1)\n",
    "    if x == 100:\n",
    "        OpsMode1.append(2)\n",
    "    "
   ]
  },
  {
   "cell_type": "code",
   "execution_count": 133,
   "metadata": {},
   "outputs": [],
   "source": [
    "test_data['OpsMode'] = OpsMode1\n",
    "test_data = test_data[test_data.OpsMode != -1]\n",
    "test_data = test_data.drop(['Altitude','Mach No','TRA'],axis=1)"
   ]
  },
  {
   "cell_type": "code",
   "execution_count": 134,
   "metadata": {},
   "outputs": [
    {
     "data": {
      "text/plain": [
       "count    33991.000000\n",
       "mean       127.528346\n",
       "std         74.144727\n",
       "min          1.000000\n",
       "25%         65.000000\n",
       "50%        128.000000\n",
       "75%        189.000000\n",
       "max        259.000000\n",
       "Name: A/C, dtype: float64"
      ]
     },
     "execution_count": 134,
     "metadata": {},
     "output_type": "execute_result"
    }
   ],
   "source": [
    "p = test_data['A/C']\n",
    "p.describe()\n",
    "#the account no have values like 30, '30' so the two must be considered seperately"
   ]
  },
  {
   "cell_type": "code",
   "execution_count": 135,
   "metadata": {
    "collapsed": true
   },
   "outputs": [],
   "source": [
    "scaler = MinMaxScaler()\n",
    "data = []\n",
    "# for i in range(1,7):\n",
    "for i in range(1,3):\n",
    "    Xi = test_data[test_data['OpsMode'] == i]\n",
    "    Xii = Xi.drop(['A/C','OpsMode','Time'],axis = 1)\n",
    "    Xi = Xi.drop(['T24','T30','T50','P30','Ps30','phi','BPR','OpsMode'],axis = 1)\n",
    "    scaler.fit(Xii)\n",
    "    Xii = scaler.transform(Xii)\n",
    "    yi = M[i-1].predict(Xii)\n",
    "    Xi['HI'] = yi\n",
    "    data.append(Xi)"
   ]
  },
  {
   "cell_type": "code",
   "execution_count": 136,
   "metadata": {
    "collapsed": true
   },
   "outputs": [],
   "source": [
    "df_test = pd.concat(data)\n",
    "df_test.sort_index(inplace = True)"
   ]
  },
  {
   "cell_type": "code",
   "execution_count": 137,
   "metadata": {},
   "outputs": [],
   "source": [
    "num = df_test['A/C'].max()\n",
    "#stores number of aircrafts"
   ]
  },
  {
   "cell_type": "code",
   "execution_count": 138,
   "metadata": {},
   "outputs": [],
   "source": [
    "def get(x,a,b,c,d):\n",
    "    return a*(np.exp(b*x+c)-np.exp(c))+d \n",
    "index = 0\n",
    "RUL_final = []\n",
    "for t in range(num):\n",
    "    data1 = df_test[df_test['A/C'] == (t+1)]\n",
    "    \n",
    "    HI = data1['HI']\n",
    "    RUL_list = []\n",
    "    Dis_list = []\n",
    "    for j in range (210):\n",
    "        RUL = -1\n",
    "        Dis = -1\n",
    "        n = df[df['A/C'] == j].shape[0]\n",
    "        r = data1.shape[0]\n",
    "        k = n-r+1\n",
    "        if(k > 0):\n",
    "            if (covariance[j] != float('inf')):\n",
    "                for tou in range(k):\n",
    "\n",
    "                    #only for Tou =0 and M1 that is model obtained from unit1\n",
    "                    s = 0\n",
    "                    a = fitted_curve_parameters[j][0]\n",
    "                    b = fitted_curve_parameters[j][1]\n",
    "                    c = fitted_curve_parameters[j][2]\n",
    "                    d = fitted_curve_parameters[j][3]\n",
    "                    for i in range (r):\n",
    "                        y = HI[i+index]\n",
    "                        p = get(i-r-tou,a,b,c,d)\n",
    "                        s = s+(y-p)*(y-p)\n",
    "                    dis = s/covariance[j]\n",
    "                    rul = r+tou\n",
    "                    if(Dis == -1):\n",
    "                        Dis = dis\n",
    "                        RUL = rul\n",
    "                    else:\n",
    "                        if(Dis > dis):\n",
    "                            Dis = dis\n",
    "                            RUL = rul\n",
    "                    #store the RUL and dis for the min dis-Tou in list dist\n",
    "                    # how to get the RUL from the stored model for a given tou?\n",
    "                #store the dist for each model\n",
    "        if(Dis != -1):\n",
    "            RUL_list.append(RUL)\n",
    "            Dis_list.append(Dis)\n",
    "    p = []\n",
    "    p.append(RUL_list)\n",
    "    p.append(Dis_list)\n",
    "    df1 = pd.DataFrame(p,index = ['RUL','Dis']).T\n",
    "    df1 = df1.sort_values(['Dis'])\n",
    "    x = len(p[0])\n",
    "    idx = []\n",
    "    for i in range(x):\n",
    "        idx.append(i)\n",
    "\n",
    "\n",
    "    df1.index = idx\n",
    "    x = (int)(x/4)\n",
    "    RUL_obtained = df1['RUL']\n",
    "    RUL_estimated = 0\n",
    "    for i in range (x):\n",
    "        RUL_estimated = RUL_estimated+RUL_obtained[i]\n",
    "    RUL_estimated = RUL_estimated/(x+1)\n",
    "    RUL_final.append(RUL_estimated)  \n",
    "    index = index+r"
   ]
  },
  {
   "cell_type": "code",
   "execution_count": 63,
   "metadata": {},
   "outputs": [],
   "source": []
  },
  {
   "cell_type": "code",
   "execution_count": 72,
   "metadata": {},
   "outputs": [
    {
     "data": {
      "text/plain": [
       "164.14893617021278"
      ]
     },
     "execution_count": 72,
     "metadata": {},
     "output_type": "execute_result"
    }
   ],
   "source": [
    "\n",
    "# df1 stores the estimated rul from all the training models with their "
   ]
  },
  {
   "cell_type": "code",
   "execution_count": 73,
   "metadata": {},
   "outputs": [
    {
     "data": {
      "text/plain": [
       "46"
      ]
     },
     "execution_count": 73,
     "metadata": {},
     "output_type": "execute_result"
    }
   ],
   "source": []
  },
  {
   "cell_type": "code",
   "execution_count": null,
   "metadata": {
    "collapsed": true
   },
   "outputs": [],
   "source": []
  }
 ],
 "metadata": {
  "kernelspec": {
   "display_name": "Python 3",
   "language": "python",
   "name": "python3"
  },
  "language_info": {
   "codemirror_mode": {
    "name": "ipython",
    "version": 3
   },
   "file_extension": ".py",
   "mimetype": "text/x-python",
   "name": "python",
   "nbconvert_exporter": "python",
   "pygments_lexer": "ipython3",
   "version": "3.6.3"
  }
 },
 "nbformat": 4,
 "nbformat_minor": 2
}
