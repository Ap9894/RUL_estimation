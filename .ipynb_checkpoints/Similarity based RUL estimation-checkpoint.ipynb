{
 "cells": [
  {
   "cell_type": "code",
   "execution_count": 1,
   "metadata": {
    "collapsed": true
   },
   "outputs": [],
   "source": [
    "import pandas as pd\n",
    "import numpy as np\n",
    "import matplotlib.pyplot as plt"
   ]
  },
  {
   "cell_type": "code",
   "execution_count": 3,
   "metadata": {},
   "outputs": [],
   "source": [
    "train = pd.read_csv('trgdata1.csv')\n",
    "# train.columns\n",
    "# test = pd.read_csv('test.csv')"
   ]
  },
  {
   "cell_type": "code",
   "execution_count": 4,
   "metadata": {
    "collapsed": true
   },
   "outputs": [],
   "source": [
    "cols = ['T2','P2','P15','Nf','Nc','EPR','NRf','Nrc','farB','htBleed','Nf_dmd','PCNfR_dmd','W31','W32']"
   ]
  },
  {
   "cell_type": "code",
   "execution_count": 5,
   "metadata": {
    "collapsed": true
   },
   "outputs": [],
   "source": [
    "train = train.drop(cols,axis = 1)"
   ]
  },
  {
   "cell_type": "code",
   "execution_count": 6,
   "metadata": {
    "collapsed": true
   },
   "outputs": [],
   "source": [
    "train = train.drop('Ops Mode',axis = 1)"
   ]
  },
  {
   "cell_type": "code",
   "execution_count": 7,
   "metadata": {
    "collapsed": true
   },
   "outputs": [],
   "source": [
    "TRA = train['TRA']\n",
    "OpsMode = []\n",
    "for x in TRA:\n",
    "    if x == 0:\n",
    "        OpsMode.append(1)\n",
    "    if x == 20:\n",
    "        OpsMode.append(2)\n",
    "    if x == 40:\n",
    "        OpsMode.append(3)\n",
    "    if x == 60:\n",
    "        OpsMode.append(4)\n",
    "    if x == 80:\n",
    "        OpsMode.append(5)\n",
    "    if x == 100:\n",
    "        OpsMode.append(6)\n",
    "        "
   ]
  },
  {
   "cell_type": "code",
   "execution_count": 8,
   "metadata": {
    "collapsed": true
   },
   "outputs": [],
   "source": [
    "train['OpsMode'] = OpsMode\n",
    "train = train.drop(['Altitude','Mach No','TRA'],axis=1)"
   ]
  },
  {
   "cell_type": "code",
   "execution_count": 9,
   "metadata": {
    "collapsed": true
   },
   "outputs": [],
   "source": [
    "unitlife = []\n",
    "n = train['A/C No.'].nunique()\n"
   ]
  },
  {
   "cell_type": "code",
   "execution_count": 10,
   "metadata": {
    "collapsed": true
   },
   "outputs": [],
   "source": [
    "for i in range(1,n+1):\n",
    "    k = train[train['A/C No.'] == i].shape[0]\n",
    "    unitlife += k*[k]\n"
   ]
  },
  {
   "cell_type": "code",
   "execution_count": 11,
   "metadata": {
    "collapsed": true
   },
   "outputs": [],
   "source": [
    "train['unitlife'] = unitlife\n",
    "train['Time'] = train['Time']-train['unitlife']\n",
    "train = train.drop('unitlife',axis = 1)"
   ]
  },
  {
   "cell_type": "code",
   "execution_count": 12,
   "metadata": {
    "collapsed": true
   },
   "outputs": [],
   "source": [
    "import seaborn as sns\n",
    "from sklearn.model_selection import train_test_split \n",
    "from sklearn.linear_model import LinearRegression\n",
    "from sklearn import metrics\n",
    "from sklearn.preprocessing import MinMaxScaler,StandardScaler\n",
    "%matplotlib inline\n"
   ]
  },
  {
   "cell_type": "code",
   "execution_count": 13,
   "metadata": {},
   "outputs": [
    {
     "data": {
      "image/png": "[encoded data removed]",
      "text/plain": [
       "<Figure size 432x288 with 1 Axes>"
      ]
     },
     "metadata": {},
     "output_type": "display_data"
    }
   ],
   "source": [
    "import seaborn as sns\n",
    "sns.set()\n",
    "d = train[train['OpsMode']==1]\n",
    "y = d['T24']\n",
    "x = d['Time']\n",
    "ax = plt.scatter(x ,y)"
   ]
  },
  {
   "cell_type": "code",
   "execution_count": 14,
   "metadata": {
    "collapsed": true
   },
   "outputs": [],
   "source": [
    "X = train[(train['Time']<-300) | (train['Time']>-5)]\n",
    "X = X.drop('A/C No.',axis = 1)"
   ]
  },
  {
   "cell_type": "code",
   "execution_count": 36,
   "metadata": {},
   "outputs": [
    {
     "name": "stdout",
     "output_type": "stream",
     "text": [
      "       Time     T24      T30      T50     P30   Ps30     phi      BPR  OpsMode\n",
      "218      -4  556.39  1381.50  1149.74  194.02  42.50  182.52   9.4265        4\n",
      "219      -3  556.65  1375.43  1149.45  193.96  42.46  182.73   9.4148        4\n",
      "220      -2  643.88  1593.26  1425.82  551.14  48.17  520.04   8.5363        6\n",
      "221      -1  608.00  1494.99  1270.18  333.03  45.04  313.64   9.2846        1\n",
      "222       0  556.60  1385.96  1150.47  194.41  42.67  182.61   9.4489        4\n",
      "...     ...     ...      ...      ...     ...    ...     ...      ...      ...\n",
      "45913    -4  551.02  1365.27  1147.43  137.97  42.68  130.21   9.4672        3\n",
      "45914    -3  550.07  1365.55  1142.21  137.56  42.62  130.24   9.4619        3\n",
      "45915    -2  549.92  1359.21  1150.15  138.05  42.83  129.86   9.4827        3\n",
      "45916    -1  556.55  1380.05  1145.49  194.59  42.61  182.03   9.4212        4\n",
      "45917     0  537.46  1274.65  1068.77  175.15  37.50  164.18  10.9748        5\n",
      "\n",
      "[1223 rows x 9 columns]\n"
     ]
    }
   ],
   "source": [
    "scaler = MinMaxScaler()\n",
    "Xscaled = X\n",
    "print(Xscaled)\n",
    "scaler.fit(Xscaled)\n",
    "Xscaled = scaler.transform(Xscaled)\n"
   ]
  },
  {
   "cell_type": "code",
   "execution_count": 37,
   "metadata": {},
   "outputs": [
    {
     "data": {
      "text/html": [
       "<div>\n",
       "<style scoped>\n",
       "    .dataframe tbody tr th:only-of-type {\n",
       "        vertical-align: middle;\n",
       "    }\n",
       "\n",
       "    .dataframe tbody tr th {\n",
       "        vertical-align: top;\n",
       "    }\n",
       "\n",
       "    .dataframe thead th {\n",
       "        text-align: right;\n",
       "    }\n",
       "</style>\n",
       "<table border=\"1\" class=\"dataframe\">\n",
       "  <thead>\n",
       "    <tr style=\"text-align: right;\">\n",
       "      <th></th>\n",
       "      <th>0</th>\n",
       "      <th>1</th>\n",
       "      <th>2</th>\n",
       "      <th>3</th>\n",
       "      <th>4</th>\n",
       "      <th>5</th>\n",
       "      <th>6</th>\n",
       "      <th>7</th>\n",
       "      <th>8</th>\n",
       "    </tr>\n",
       "  </thead>\n",
       "  <tbody>\n",
       "    <tr>\n",
       "      <td>0</td>\n",
       "      <td>0.988764</td>\n",
       "      <td>0.186442</td>\n",
       "      <td>0.362672</td>\n",
       "      <td>0.274256</td>\n",
       "      <td>0.136578</td>\n",
       "      <td>0.509575</td>\n",
       "      <td>0.135317</td>\n",
       "      <td>0.394988</td>\n",
       "      <td>0.6</td>\n",
       "    </tr>\n",
       "    <tr>\n",
       "      <td>1</td>\n",
       "      <td>0.991573</td>\n",
       "      <td>0.188847</td>\n",
       "      <td>0.346080</td>\n",
       "      <td>0.273537</td>\n",
       "      <td>0.136434</td>\n",
       "      <td>0.506245</td>\n",
       "      <td>0.135851</td>\n",
       "      <td>0.390713</td>\n",
       "      <td>0.6</td>\n",
       "    </tr>\n",
       "    <tr>\n",
       "      <td>2</td>\n",
       "      <td>0.994382</td>\n",
       "      <td>0.995561</td>\n",
       "      <td>0.941504</td>\n",
       "      <td>0.958978</td>\n",
       "      <td>0.991075</td>\n",
       "      <td>0.981682</td>\n",
       "      <td>0.993012</td>\n",
       "      <td>0.069777</td>\n",
       "      <td>1.0</td>\n",
       "    </tr>\n",
       "    <tr>\n",
       "      <td>3</td>\n",
       "      <td>0.997191</td>\n",
       "      <td>0.663738</td>\n",
       "      <td>0.672890</td>\n",
       "      <td>0.572966</td>\n",
       "      <td>0.469193</td>\n",
       "      <td>0.721066</td>\n",
       "      <td>0.468515</td>\n",
       "      <td>0.343148</td>\n",
       "      <td>0.0</td>\n",
       "    </tr>\n",
       "    <tr>\n",
       "      <td>4</td>\n",
       "      <td>1.000000</td>\n",
       "      <td>0.188384</td>\n",
       "      <td>0.374863</td>\n",
       "      <td>0.276066</td>\n",
       "      <td>0.137511</td>\n",
       "      <td>0.523730</td>\n",
       "      <td>0.135546</td>\n",
       "      <td>0.403171</td>\n",
       "      <td>0.6</td>\n",
       "    </tr>\n",
       "    <tr>\n",
       "      <td>...</td>\n",
       "      <td>...</td>\n",
       "      <td>...</td>\n",
       "      <td>...</td>\n",
       "      <td>...</td>\n",
       "      <td>...</td>\n",
       "      <td>...</td>\n",
       "      <td>...</td>\n",
       "      <td>...</td>\n",
       "      <td>...</td>\n",
       "    </tr>\n",
       "    <tr>\n",
       "      <td>1218</td>\n",
       "      <td>0.988764</td>\n",
       "      <td>0.136780</td>\n",
       "      <td>0.318309</td>\n",
       "      <td>0.268527</td>\n",
       "      <td>0.002465</td>\n",
       "      <td>0.524563</td>\n",
       "      <td>0.002389</td>\n",
       "      <td>0.409856</td>\n",
       "      <td>0.4</td>\n",
       "    </tr>\n",
       "    <tr>\n",
       "      <td>1219</td>\n",
       "      <td>0.991573</td>\n",
       "      <td>0.127994</td>\n",
       "      <td>0.319074</td>\n",
       "      <td>0.255580</td>\n",
       "      <td>0.001484</td>\n",
       "      <td>0.519567</td>\n",
       "      <td>0.002465</td>\n",
       "      <td>0.407920</td>\n",
       "      <td>0.4</td>\n",
       "    </tr>\n",
       "    <tr>\n",
       "      <td>1220</td>\n",
       "      <td>0.994382</td>\n",
       "      <td>0.126607</td>\n",
       "      <td>0.301744</td>\n",
       "      <td>0.275273</td>\n",
       "      <td>0.002656</td>\n",
       "      <td>0.537052</td>\n",
       "      <td>0.001499</td>\n",
       "      <td>0.415519</td>\n",
       "      <td>0.4</td>\n",
       "    </tr>\n",
       "    <tr>\n",
       "      <td>1221</td>\n",
       "      <td>0.997191</td>\n",
       "      <td>0.187922</td>\n",
       "      <td>0.358709</td>\n",
       "      <td>0.263715</td>\n",
       "      <td>0.137942</td>\n",
       "      <td>0.518734</td>\n",
       "      <td>0.134072</td>\n",
       "      <td>0.393052</td>\n",
       "      <td>0.6</td>\n",
       "    </tr>\n",
       "    <tr>\n",
       "      <td>1222</td>\n",
       "      <td>1.000000</td>\n",
       "      <td>0.011375</td>\n",
       "      <td>0.070605</td>\n",
       "      <td>0.073437</td>\n",
       "      <td>0.091427</td>\n",
       "      <td>0.093256</td>\n",
       "      <td>0.088712</td>\n",
       "      <td>0.960618</td>\n",
       "      <td>0.8</td>\n",
       "    </tr>\n",
       "  </tbody>\n",
       "</table>\n",
       "<p>1223 rows × 9 columns</p>\n",
       "</div>"
      ],
      "text/plain": [
       "             0         1         2         3         4         5         6  \\\n",
       "0     0.988764  0.186442  0.362672  0.274256  0.136578  0.509575  0.135317   \n",
       "1     0.991573  0.188847  0.346080  0.273537  0.136434  0.506245  0.135851   \n",
       "2     0.994382  0.995561  0.941504  0.958978  0.991075  0.981682  0.993012   \n",
       "3     0.997191  0.663738  0.672890  0.572966  0.469193  0.721066  0.468515   \n",
       "4     1.000000  0.188384  0.374863  0.276066  0.137511  0.523730  0.135546   \n",
       "...        ...       ...       ...       ...       ...       ...       ...   \n",
       "1218  0.988764  0.136780  0.318309  0.268527  0.002465  0.524563  0.002389   \n",
       "1219  0.991573  0.127994  0.319074  0.255580  0.001484  0.519567  0.002465   \n",
       "1220  0.994382  0.126607  0.301744  0.275273  0.002656  0.537052  0.001499   \n",
       "1221  0.997191  0.187922  0.358709  0.263715  0.137942  0.518734  0.134072   \n",
       "1222  1.000000  0.011375  0.070605  0.073437  0.091427  0.093256  0.088712   \n",
       "\n",
       "             7    8  \n",
       "0     0.394988  0.6  \n",
       "1     0.390713  0.6  \n",
       "2     0.069777  1.0  \n",
       "3     0.343148  0.0  \n",
       "4     0.403171  0.6  \n",
       "...        ...  ...  \n",
       "1218  0.409856  0.4  \n",
       "1219  0.407920  0.4  \n",
       "1220  0.415519  0.4  \n",
       "1221  0.393052  0.6  \n",
       "1222  0.960618  0.8  \n",
       "\n",
       "[1223 rows x 9 columns]"
      ]
     },
     "execution_count": 37,
     "metadata": {},
     "output_type": "execute_result"
    }
   ],
   "source": [
    "Xscaled_df = pd.DataFrame(Xscaled)\n",
    "Xscaled_df\n"
   ]
  },
  {
   "cell_type": "code",
   "execution_count": 54,
   "metadata": {
    "collapsed": true
   },
   "outputs": [],
   "source": [
    "Xscaled_df.to_excel('scaled_data.xlsx')"
   ]
  },
  {
   "cell_type": "code",
   "execution_count": 40,
   "metadata": {
    "collapsed": true
   },
   "outputs": [],
   "source": [
    "X1 = X[X['OpsMode'] == 1]\n",
    "X1 = X1.drop('OpsMode',axis = 1)\n",
    "y1 = np.where(X1['Time']>-5,0,1)\n"
   ]
  },
  {
   "cell_type": "code",
   "execution_count": 41,
   "metadata": {},
   "outputs": [
    {
     "data": {
      "text/plain": [
       "True"
      ]
     },
     "execution_count": 41,
     "metadata": {},
     "output_type": "execute_result"
    }
   ],
   "source": [
    "(y1 == 1).any()"
   ]
  },
  {
   "cell_type": "code",
   "execution_count": 42,
   "metadata": {
    "collapsed": true
   },
   "outputs": [],
   "source": [
    "scaler = MinMaxScaler()\n",
    "X11 = X1\n",
    "scaler.fit(X11)\n",
    "X11 = scaler.transform(X11)\n"
   ]
  },
  {
   "cell_type": "code",
   "execution_count": 43,
   "metadata": {
    "collapsed": true
   },
   "outputs": [],
   "source": [
    "X1_train, X1_test, y1_train, y1_test = train_test_split(X11, y1, test_size=0.2, random_state=0)"
   ]
  },
  {
   "cell_type": "code",
   "execution_count": 44,
   "metadata": {},
   "outputs": [
    {
     "data": {
      "text/plain": [
       "LinearRegression(copy_X=True, fit_intercept=True, n_jobs=None, normalize=False)"
      ]
     },
     "execution_count": 44,
     "metadata": {},
     "output_type": "execute_result"
    }
   ],
   "source": [
    "regressor = LinearRegression()\n",
    "regressor.fit(X1_train,y1_train)"
   ]
  },
  {
   "cell_type": "code",
   "execution_count": 45,
   "metadata": {
    "collapsed": true
   },
   "outputs": [],
   "source": [
    "coeff_df = pd.DataFrame(regressor.coef_,X1.columns, columns = ['Coefficient'])\n",
    "# coeff_df"
   ]
  },
  {
   "cell_type": "code",
   "execution_count": 46,
   "metadata": {
    "collapsed": true
   },
   "outputs": [],
   "source": [
    "y1_pred = regressor.predict(X1_test)\n",
    "# y1_pred"
   ]
  },
  {
   "cell_type": "code",
   "execution_count": 47,
   "metadata": {
    "collapsed": true
   },
   "outputs": [],
   "source": [
    "df = pd.DataFrame({'Actual':y1_test, 'Predict':y1_pred})\n",
    "# df[df['Actual'] == 1]"
   ]
  },
  {
   "cell_type": "code",
   "execution_count": 48,
   "metadata": {
    "collapsed": true
   },
   "outputs": [],
   "source": [
    "scaler = MinMaxScaler()\n",
    "M = []\n",
    "for i in range (1,7):\n",
    "    Xi = X[X['OpsMode'] == i]\n",
    "    Xi = Xi.drop('OpsMode',axis=1)\n",
    "    yi = np.where(Xi['Time']>-5,0,1)\n",
    "    scaler.fit(Xi)\n",
    "    Xi = scaler.transform(Xi)\n",
    "    Xi_train, Xi_test, yi_train, yi_test = train_test_split(Xi, yi, test_size=0.2, random_state=0)\n",
    "    regressor = LinearRegression()\n",
    "    Mi = regressor.fit(Xi_train,yi_train)\n",
    "    coeff_df = pd.DataFrame(Mi.coef_, columns = ['Coefficient'])\n",
    "    M.append(Mi)"
   ]
  },
  {
   "cell_type": "code",
   "execution_count": 50,
   "metadata": {
    "collapsed": true
   },
   "outputs": [],
   "source": [
    "scaler = MinMaxScaler()\n",
    "data = []\n",
    "for i in range(1,7):\n",
    "    Xi = train[train['OpsMode'] == i]\n",
    "#     OpsMode = Xi['OpsMode']\n",
    "#     Unit = Xi['A/C No.'] \n",
    "    Xii = Xi.drop(['A/C No.','OpsMode'],axis = 1)\n",
    "    Xi = Xi.drop(['T24','T30','T50','P30','Ps30','phi','BPR','OpsMode'],axis = 1)\n",
    "    scaler.fit(Xii)\n",
    "    Xii = scaler.transform(Xii)\n",
    "    yi = M[i-1].predict(Xii)\n",
    "    Xi['HI'] = yi\n",
    "    data.append(Xi)\n",
    "#     df = pd.DataFrame([Unit,OpsMode,yi],columns = ['A/C No.','OpsMode','HI'])\n",
    "#     print(Xi)\n"
   ]
  },
  {
   "cell_type": "code",
   "execution_count": 51,
   "metadata": {
    "collapsed": true
   },
   "outputs": [],
   "source": [
    "df = pd.concat(data)\n",
    "df.sort_index(inplace = True)"
   ]
  },
  {
   "cell_type": "code",
   "execution_count": 53,
   "metadata": {},
   "outputs": [
    {
     "data": {
      "image/png": "[encoded data removed]",
      "text/plain": [
       "<Figure size 360x360 with 1 Axes>"
      ]
     },
     "metadata": {},
     "output_type": "display_data"
    }
   ],
   "source": [
    "import seaborn as sns\n",
    "sns.set()\n",
    "d = df[df['A/C No.']==1]\n",
    "ax = sns.lmplot(x = 'Time',y = 'HI',data = d)"
   ]
  },
  {
   "cell_type": "code",
   "execution_count": 634,
   "metadata": {},
   "outputs": [
    {
     "name": "stdout",
     "output_type": "stream",
     "text": [
      "[-1.66003120e+00  3.15672390e-04  1.82198633e+00 -6.42838835e-03]\n",
      "[[ 1.07839902e+09 -5.28793134e-02  6.49625917e+08 -1.55458627e+01]\n",
      " [-5.28784035e-02  6.00529380e-09 -3.18722247e-02 -7.65557233e-08]\n",
      " [ 6.49625917e+08 -3.18727729e-02  3.91333656e+08 -9.36456918e+00]\n",
      " [-1.55458744e+01 -7.65557096e-08 -9.36457620e+00  2.03613877e-06]]\n"
     ]
    },
    {
     "data": {
      "image/png": "[encoded data removed]",
      "text/plain": [
       "<Figure size 432x288 with 1 Axes>"
      ]
     },
     "metadata": {},
     "output_type": "display_data"
    }
   ],
   "source": [
    "from scipy.optimize import curve_fit\n",
    "def func(x,a,b,c,d):\n",
    "    return a*(np.exp(b*x+c)-np.exp(c))+d\n",
    "popt, pcov = curve_fit(func,x,y)\n",
    "plt.plot(x,func(x,*popt))\n",
    "print(popt)\n",
    "print(pcov)"
   ]
  },
  {
   "cell_type": "code",
   "execution_count": 622,
   "metadata": {},
   "outputs": [
    {
     "name": "stderr",
     "output_type": "stream",
     "text": [
      "/anaconda/anaconda3/lib/python3.6/site-packages/scipy/optimize/minpack.py:795: OptimizeWarning: Covariance of the parameters could not be estimated\n",
      "  category=OptimizeWarning)\n"
     ]
    },
    {
     "ename": "RuntimeError",
     "evalue": "Optimal parameters not found: Number of calls to function has reached maxfev = 800.",
     "output_type": "error",
     "traceback": [
      "\u001b[0;31m---------------------------------------------------------------------------\u001b[0m",
      "\u001b[0;31mRuntimeError\u001b[0m                              Traceback (most recent call last)",
      "\u001b[0;32m<ipython-input-622-02547b4eb121>\u001b[0m in \u001b[0;36m<module>\u001b[0;34m()\u001b[0m\n\u001b[1;32m      8\u001b[0m     \u001b[0mx\u001b[0m \u001b[0;34m=\u001b[0m \u001b[0mdata\u001b[0m\u001b[0;34m[\u001b[0m\u001b[0;34m'Time'\u001b[0m\u001b[0;34m]\u001b[0m\u001b[0;34m\u001b[0m\u001b[0m\n\u001b[1;32m      9\u001b[0m     \u001b[0my\u001b[0m \u001b[0;34m=\u001b[0m \u001b[0mnp\u001b[0m\u001b[0;34m.\u001b[0m\u001b[0marray\u001b[0m\u001b[0;34m(\u001b[0m\u001b[0mdata\u001b[0m\u001b[0;34m[\u001b[0m\u001b[0;34m'HI'\u001b[0m\u001b[0;34m]\u001b[0m\u001b[0;34m)\u001b[0m\u001b[0;34m\u001b[0m\u001b[0m\n\u001b[0;32m---> 10\u001b[0;31m     \u001b[0mpopt\u001b[0m\u001b[0;34m,\u001b[0m \u001b[0mpcov\u001b[0m \u001b[0;34m=\u001b[0m \u001b[0mcurve_fit\u001b[0m\u001b[0;34m(\u001b[0m\u001b[0mfunc\u001b[0m\u001b[0;34m,\u001b[0m\u001b[0mx\u001b[0m\u001b[0;34m,\u001b[0m\u001b[0my\u001b[0m\u001b[0;34m)\u001b[0m\u001b[0;34m\u001b[0m\u001b[0m\n\u001b[0m\u001b[1;32m     11\u001b[0m     \u001b[0mfitted_curve_parameters\u001b[0m\u001b[0;34m.\u001b[0m\u001b[0mappend\u001b[0m\u001b[0;34m(\u001b[0m\u001b[0mpopt\u001b[0m\u001b[0;34m)\u001b[0m\u001b[0;34m\u001b[0m\u001b[0m\n\u001b[1;32m     12\u001b[0m     \u001b[0mcovariance\u001b[0m\u001b[0;34m.\u001b[0m\u001b[0mappend\u001b[0m\u001b[0;34m(\u001b[0m\u001b[0mpcov\u001b[0m\u001b[0;34m)\u001b[0m\u001b[0;34m\u001b[0m\u001b[0m\n",
      "\u001b[0;32m/anaconda/anaconda3/lib/python3.6/site-packages/scipy/optimize/minpack.py\u001b[0m in \u001b[0;36mcurve_fit\u001b[0;34m(f, xdata, ydata, p0, sigma, absolute_sigma, check_finite, bounds, method, jac, **kwargs)\u001b[0m\n\u001b[1;32m    754\u001b[0m         \u001b[0mcost\u001b[0m \u001b[0;34m=\u001b[0m \u001b[0mnp\u001b[0m\u001b[0;34m.\u001b[0m\u001b[0msum\u001b[0m\u001b[0;34m(\u001b[0m\u001b[0minfodict\u001b[0m\u001b[0;34m[\u001b[0m\u001b[0;34m'fvec'\u001b[0m\u001b[0;34m]\u001b[0m \u001b[0;34m**\u001b[0m \u001b[0;36m2\u001b[0m\u001b[0;34m)\u001b[0m\u001b[0;34m\u001b[0m\u001b[0m\n\u001b[1;32m    755\u001b[0m         \u001b[0;32mif\u001b[0m \u001b[0mier\u001b[0m \u001b[0;32mnot\u001b[0m \u001b[0;32min\u001b[0m \u001b[0;34m[\u001b[0m\u001b[0;36m1\u001b[0m\u001b[0;34m,\u001b[0m \u001b[0;36m2\u001b[0m\u001b[0;34m,\u001b[0m \u001b[0;36m3\u001b[0m\u001b[0;34m,\u001b[0m \u001b[0;36m4\u001b[0m\u001b[0;34m]\u001b[0m\u001b[0;34m:\u001b[0m\u001b[0;34m\u001b[0m\u001b[0m\n\u001b[0;32m--> 756\u001b[0;31m             \u001b[0;32mraise\u001b[0m \u001b[0mRuntimeError\u001b[0m\u001b[0;34m(\u001b[0m\u001b[0;34m\"Optimal parameters not found: \"\u001b[0m \u001b[0;34m+\u001b[0m \u001b[0merrmsg\u001b[0m\u001b[0;34m)\u001b[0m\u001b[0;34m\u001b[0m\u001b[0m\n\u001b[0m\u001b[1;32m    757\u001b[0m     \u001b[0;32melse\u001b[0m\u001b[0;34m:\u001b[0m\u001b[0;34m\u001b[0m\u001b[0m\n\u001b[1;32m    758\u001b[0m         \u001b[0;31m# Rename maxfev (leastsq) to max_nfev (least_squares), if specified.\u001b[0m\u001b[0;34m\u001b[0m\u001b[0;34m\u001b[0m\u001b[0m\n",
      "\u001b[0;31mRuntimeError\u001b[0m: Optimal parameters not found: Number of calls to function has reached maxfev = 800."
     ]
    }
   ],
   "source": [
    "from scipy.optimize import curve_fit\n",
    "def func(x,a,b,c):\n",
    "    return a*np.exp(c)*(np.exp(b*x)-1)\n",
    "fitted_curve_parameters = []\n",
    "covariance = []\n",
    "for i in range(1,n+1):\n",
    "    data = df[df['A/C No.'] == i]\n",
    "    x = data['Time']\n",
    "    y = np.array(data['HI'])\n",
    "    popt, pcov = curve_fit(func,x,y)\n",
    "    fitted_curve_parameters.append(popt)\n",
    "    covariance.append(pcov)\n",
    "    "
   ]
  },
  {
   "cell_type": "code",
   "execution_count": null,
   "metadata": {
    "collapsed": true
   },
   "outputs": [],
   "source": []
  }
 ],
 "metadata": {
  "kernelspec": {
   "display_name": "Python 3",
   "language": "python",
   "name": "python3"
  },
  "language_info": {
   "codemirror_mode": {
    "name": "ipython",
    "version": 3
   },
   "file_extension": ".py",
   "mimetype": "text/x-python",
   "name": "python",
   "nbconvert_exporter": "python",
   "pygments_lexer": "ipython3",
   "version": "3.6.3"
  }
 },
 "nbformat": 4,
 "nbformat_minor": 2
}
