{
 "cells": [
  {
   "cell_type": "code",
   "execution_count": 0,
   "metadata": {
    "colab": {},
    "colab_type": "code",
    "collapsed": true,
    "id": "C9158WwHcZ_9"
   },
   "outputs": [],
   "source": [
    "import pandas as pd\n",
    "import numpy as np\n",
    "import matplotlib.pyplot as plt"
   ]
  },
  {
   "cell_type": "code",
   "execution_count": 87,
   "metadata": {
    "colab": {
     "base_uri": "https://localhost:8080/",
     "height": 34
    },
    "colab_type": "code",
    "id": "WtpwBXjyc4H_",
    "outputId": "a82eceb2-96e6-4e45-cbc5-be8dd3222b6e"
   },
   "outputs": [
    {
     "name": "stdout",
     "output_type": "stream",
     "text": [
      "Drive already mounted at /content/drive; to attempt to forcibly remount, call drive.mount(\"/content/drive\", force_remount=True).\n"
     ]
    }
   ],
   "source": [
    "from google.colab import drive\n",
    "drive.mount('/content/drive')"
   ]
  },
  {
   "cell_type": "code",
   "execution_count": 0,
   "metadata": {
    "colab": {},
    "colab_type": "code",
    "collapsed": true,
    "id": "GDIajux5c6ye"
   },
   "outputs": [],
   "source": [
    "#importing the training dataset\n",
    "train = pd.read_csv('/content/drive/My Drive/trg-9-new.csv')"
   ]
  },
  {
   "cell_type": "code",
   "execution_count": 0,
   "metadata": {
    "colab": {},
    "colab_type": "code",
    "collapsed": true,
    "id": "0552E5kmdJ9L"
   },
   "outputs": [],
   "source": [
    "#deleting the unwanted columns\n",
    "cols = ['s1','s2','s3','s4','s5','s6','s7','s8','s9','s10','s11','s12','s13','s14','s15','s16','s17','s18','s19','s20','s21','setting1','setting2','setting3','RUL']\n",
    "train = train.drop(cols,axis = 1)\n",
    "\n",
    "#shifting the time cycles such that last time cycle of each aircraft points to zero\n",
    "unitlife = []\n",
    "n = train['id'].nunique()\n",
    "for i in range(1,n+1):\n",
    "    k = train[train['id'] == i].shape[0]\n",
    "    unitlife += k*[k]\n",
    "train['unitlife'] = unitlife\n",
    "train['cycle'] = train['cycle']-train['unitlife']\n",
    "train = train.drop('unitlife',axis = 1)"
   ]
  },
  {
   "cell_type": "code",
   "execution_count": 0,
   "metadata": {
    "colab": {},
    "colab_type": "code",
    "collapsed": true,
    "id": "bfTMGeI0ed0D"
   },
   "outputs": [],
   "source": [
    "df = train"
   ]
  },
  {
   "cell_type": "code",
   "execution_count": 0,
   "metadata": {
    "colab": {},
    "colab_type": "code",
    "collapsed": true,
    "id": "Ry8vrlSVfT8I"
   },
   "outputs": [],
   "source": [
    "#defining an  exponential averaging filter\n",
    "def get_avg(val,prev,alpha):\n",
    "  return alpha*val+(1-alpha)*prev\n",
    "\n",
    "def ewma(HI,alpha):\n",
    "  s=0\n",
    "  avg_y = []\n",
    "  for i in range(len(HI)):\n",
    "    s = s+HI[i]\n",
    "    if(i<10):\n",
    "      avg_y.append(s/(i+1))\n",
    "    else:\n",
    "      avg_y.append(get_avg(HI[i],avg_y[i-1],alpha))\n",
    "  return avg_y"
   ]
  },
  {
   "cell_type": "code",
   "execution_count": 0,
   "metadata": {
    "colab": {},
    "colab_type": "code",
    "collapsed": true,
    "id": "kcU8cvm7cI-2"
   },
   "outputs": [],
   "source": [
    "# saving the smoothed training dataset HI\n",
    "# new_HI=[]\n",
    "# for i in range (218):\n",
    "#   dd = df[df['id'] == i+1]\n",
    "#   y = dd['HI']\n",
    "#   y = np.asarray(y)\n",
    "#   y = ewma(y,alpha = 0.2)\n",
    "#   for j in range (len(y)):\n",
    "#     new_HI.append(y[j])\n",
    "# dfff = df\n",
    "# dfff = dfff.drop('HI',axis=1)\n",
    "# dfff['HI']=new_HI\n",
    "# dfff.to_csv('/content/drive/My Drive/RUL_pool.csv')"
   ]
  },
  {
   "cell_type": "code",
   "execution_count": 128,
   "metadata": {
    "colab": {
     "base_uri": "https://localhost:8080/",
     "height": 285
    },
    "colab_type": "code",
    "id": "X5yawolJyKFx",
    "outputId": "e35e530c-06f5-48ca-d2c6-66e25ca5fd77"
   },
   "outputs": [
    {
     "data": {
      "image/png": "[encoded data removed]",
      "text/plain": [
       "<Figure size 432x288 with 1 Axes>"
      ]
     },
     "metadata": {
      "tags": []
     },
     "output_type": "display_data"
    }
   ],
   "source": [
    "import seaborn as sns\n",
    "from scipy.optimize import curve_fit\n",
    "def func(x,a,b,c,d):\n",
    "    return d+a*(np.exp(c+b*x)-np.exp(c))\n",
    "%matplotlib inline \n",
    "sns.set()\n",
    "d = df[df['id'] == 49]\n",
    "\n",
    "y = d['HI']\n",
    "y = np.asarray(y)\n",
    "# y = ewma(y,alpha = 0.2)\n",
    "x = d['cycle']\n",
    "ax = plt.scatter(x ,y)\n",
    "plt.ylabel('HI (A/C No:49)')\n",
    "plt.xlabel('Time')\n",
    "max_time = d.shape[0]\n",
    "# popt, pcov = curve_fit(func,x,y)\n",
    "# plt.plot(x,func(x,*popt))"
   ]
  },
  {
   "cell_type": "code",
   "execution_count": 62,
   "metadata": {
    "colab": {
     "base_uri": "https://localhost:8080/",
     "height": 302
    },
    "colab_type": "code",
    "id": "yTbEylgxyMuF",
    "outputId": "001c26e1-40c9-416c-8bbc-28334fcef18c"
   },
   "outputs": [
    {
     "data": {
      "text/plain": [
       "<matplotlib.collections.PathCollection at 0x7fc1cf66d9e8>"
      ]
     },
     "execution_count": 62,
     "metadata": {
      "tags": []
     },
     "output_type": "execute_result"
    },
    {
     "data": {
      "image/png": "[encoded data removed]",
      "text/plain": [
       "<Figure size 432x288 with 1 Axes>"
      ]
     },
     "metadata": {
      "tags": []
     },
     "output_type": "display_data"
    }
   ],
   "source": [
    "from scipy.optimize import curve_fit\n",
    "def func(x,a,b,c,d,e):\n",
    "    return d+a*(np.exp(c+b*(x))-np.exp(c))\\\n",
    "\n",
    "d = df[df['id'] == 49]\n",
    "x = np.array(d['cycle'])\n",
    "y = np.array(d['HI'])\n",
    "y = ewma(y,alpha = 0.2)\n",
    "popt, pcov = curve_fit(func,x,y)\n",
    "plt.plot(x,func(x,*popt))\n",
    "plt.ylabel('HI ')\n",
    "plt.xlabel('Time')\n",
    "plt.scatter(x,y)\n",
    "# print(popt)\n",
    "# print(pcov)\n",
    "\n"
   ]
  },
  {
   "cell_type": "code",
   "execution_count": 92,
   "metadata": {
    "colab": {
     "base_uri": "https://localhost:8080/",
     "height": 119
    },
    "colab_type": "code",
    "id": "xC9ifbfepH2T",
    "outputId": "c2ef7334-3f99-4caa-8523-f5418461e382"
   },
   "outputs": [
    {
     "name": "stderr",
     "output_type": "stream",
     "text": [
      "/usr/local/lib/python3.6/dist-packages/ipykernel_launcher.py:3: RuntimeWarning: overflow encountered in exp\n",
      "  This is separate from the ipykernel package so we can avoid doing imports until\n",
      "/usr/local/lib/python3.6/dist-packages/ipykernel_launcher.py:3: RuntimeWarning: overflow encountered in multiply\n",
      "  This is separate from the ipykernel package so we can avoid doing imports until\n",
      "/usr/local/lib/python3.6/dist-packages/scipy/optimize/minpack.py:808: OptimizeWarning: Covariance of the parameters could not be estimated\n",
      "  category=OptimizeWarning)\n"
     ]
    }
   ],
   "source": [
    "#finding the fitting exponential pattern for each unit in training dataset\n",
    "from scipy.optimize import curve_fit\n",
    "\n",
    "#equation used to fit the curves\n",
    "def func(x,a,b,c,d):\n",
    "    return d+a*(np.exp(b*x+c)-np.exp(c))\n",
    "\n",
    "fitted_curve_parameters = []    \n",
    "covariance = []\n",
    "var = 0\n",
    "\n",
    "for i in range(1,n+1):\n",
    "\n",
    "    data = df[df['id'] == i]\n",
    "    x = np.array(data['cycle'])\n",
    "    y = np.array(data['HI'])\n",
    "\n",
    "    #applying EWMA filter\n",
    "    y = ewma(y,alpha = 0.2)\n",
    "    popt, pcov = curve_fit(func,x,y)\n",
    "\n",
    "    parameter_var = 0\n",
    "    for j in range(4):\n",
    "        parameter_var = parameter_var + pcov[j][j]\n",
    "\n",
    "    #estimating the prediction variance \n",
    "    prediction_var = 0\n",
    "\n",
    "    if(parameter_var != float('inf')):\n",
    "\n",
    "      estimate = []\n",
    "      a = popt[0]\n",
    "      b = popt[1]\n",
    "      c = popt[2]\n",
    "      d = popt[3]\n",
    "      for element in x:\n",
    "        est = func(element,a,b,c,d)\n",
    "        estimate.append(est)\n",
    "      prediction_var = np.var(estimate)\n",
    "\n",
    "    else:\n",
    "      prediction_var = float('inf')\n",
    "            \n",
    "    fitted_curve_parameters.append(popt)        \n",
    "    covariance.append(prediction_var)"
   ]
  },
  {
   "cell_type": "code",
   "execution_count": 0,
   "metadata": {
    "colab": {},
    "colab_type": "code",
    "collapsed": true,
    "id": "YdoIgTG2gbli"
   },
   "outputs": [],
   "source": [
    "# covariance"
   ]
  },
  {
   "cell_type": "code",
   "execution_count": 0,
   "metadata": {
    "colab": {},
    "colab_type": "code",
    "collapsed": true,
    "id": "_9NxieuzgepF"
   },
   "outputs": [],
   "source": [
    "#importing the test dataset\n",
    "test = pd.read_csv('/content/drive/My Drive/test-9-new.csv')"
   ]
  },
  {
   "cell_type": "code",
   "execution_count": 0,
   "metadata": {
    "colab": {},
    "colab_type": "code",
    "collapsed": true,
    "id": "5daL2bpUgoUE"
   },
   "outputs": [],
   "source": [
    "#dropping the unwanted columns\n",
    "cols = ['s1','s2','s3','s4','s5','s6','s7','s8','s9','s10','s11','s12','s13','s14','s15','s16','s17','s18','s19','s20','s21','setting1','setting2','setting3']\n",
    "test = test.drop(cols,axis = 1)"
   ]
  },
  {
   "cell_type": "code",
   "execution_count": 129,
   "metadata": {
    "colab": {
     "base_uri": "https://localhost:8080/",
     "height": 419
    },
    "colab_type": "code",
    "id": "v53-uiCxhFYn",
    "outputId": "1391abdc-1678-455f-c709-f876d88558db"
   },
   "outputs": [
    {
     "data": {
      "text/html": [
       "<div>\n",
       "<style scoped>\n",
       "    .dataframe tbody tr th:only-of-type {\n",
       "        vertical-align: middle;\n",
       "    }\n",
       "\n",
       "    .dataframe tbody tr th {\n",
       "        vertical-align: top;\n",
       "    }\n",
       "\n",
       "    .dataframe thead th {\n",
       "        text-align: right;\n",
       "    }\n",
       "</style>\n",
       "<table border=\"1\" class=\"dataframe\">\n",
       "  <thead>\n",
       "    <tr style=\"text-align: right;\">\n",
       "      <th></th>\n",
       "      <th>id</th>\n",
       "      <th>cycle</th>\n",
       "      <th>HI</th>\n",
       "    </tr>\n",
       "  </thead>\n",
       "  <tbody>\n",
       "    <tr>\n",
       "      <th>0</th>\n",
       "      <td>1</td>\n",
       "      <td>1</td>\n",
       "      <td>1.0</td>\n",
       "    </tr>\n",
       "    <tr>\n",
       "      <th>1</th>\n",
       "      <td>1</td>\n",
       "      <td>2</td>\n",
       "      <td>1.0</td>\n",
       "    </tr>\n",
       "    <tr>\n",
       "      <th>2</th>\n",
       "      <td>1</td>\n",
       "      <td>3</td>\n",
       "      <td>1.0</td>\n",
       "    </tr>\n",
       "    <tr>\n",
       "      <th>3</th>\n",
       "      <td>1</td>\n",
       "      <td>4</td>\n",
       "      <td>1.0</td>\n",
       "    </tr>\n",
       "    <tr>\n",
       "      <th>4</th>\n",
       "      <td>1</td>\n",
       "      <td>5</td>\n",
       "      <td>1.0</td>\n",
       "    </tr>\n",
       "    <tr>\n",
       "      <th>...</th>\n",
       "      <td>...</td>\n",
       "      <td>...</td>\n",
       "      <td>...</td>\n",
       "    </tr>\n",
       "    <tr>\n",
       "      <th>29815</th>\n",
       "      <td>218</td>\n",
       "      <td>86</td>\n",
       "      <td>1.0</td>\n",
       "    </tr>\n",
       "    <tr>\n",
       "      <th>29816</th>\n",
       "      <td>218</td>\n",
       "      <td>87</td>\n",
       "      <td>1.0</td>\n",
       "    </tr>\n",
       "    <tr>\n",
       "      <th>29817</th>\n",
       "      <td>218</td>\n",
       "      <td>88</td>\n",
       "      <td>0.8</td>\n",
       "    </tr>\n",
       "    <tr>\n",
       "      <th>29818</th>\n",
       "      <td>218</td>\n",
       "      <td>89</td>\n",
       "      <td>1.0</td>\n",
       "    </tr>\n",
       "    <tr>\n",
       "      <th>29819</th>\n",
       "      <td>218</td>\n",
       "      <td>90</td>\n",
       "      <td>1.0</td>\n",
       "    </tr>\n",
       "  </tbody>\n",
       "</table>\n",
       "<p>29820 rows × 3 columns</p>\n",
       "</div>"
      ],
      "text/plain": [
       "        id  cycle   HI\n",
       "0        1      1  1.0\n",
       "1        1      2  1.0\n",
       "2        1      3  1.0\n",
       "3        1      4  1.0\n",
       "4        1      5  1.0\n",
       "...    ...    ...  ...\n",
       "29815  218     86  1.0\n",
       "29816  218     87  1.0\n",
       "29817  218     88  0.8\n",
       "29818  218     89  1.0\n",
       "29819  218     90  1.0\n",
       "\n",
       "[29820 rows x 3 columns]"
      ]
     },
     "execution_count": 129,
     "metadata": {
      "tags": []
     },
     "output_type": "execute_result"
    }
   ],
   "source": [
    "df_test = test"
   ]
  },
  {
   "cell_type": "code",
   "execution_count": 0,
   "metadata": {
    "colab": {},
    "colab_type": "code",
    "collapsed": true,
    "id": "BFzpuqpwewXX"
   },
   "outputs": [],
   "source": [
    "#saving the test data\n",
    "new_HI=[]\n",
    "for i in range (218):\n",
    "  dd = df[df['id'] == i+1]\n",
    "  y = dd['HI']\n",
    "  y = np.asarray(y)\n",
    "  y = ewma(y,alpha = 0.2)\n",
    "  for j in range (len(y)):\n",
    "    new_HI.append(y[j])\n",
    "dfff = df\n",
    "dfff = dfff.drop('HI',axis=1)\n",
    "dfff['HI']=new_HI\n",
    "dfff.to_csv('/content/drive/My Drive/RUL_pool.csv')\n"
   ]
  },
  {
   "cell_type": "code",
   "execution_count": 132,
   "metadata": {
    "colab": {
     "base_uri": "https://localhost:8080/",
     "height": 302
    },
    "colab_type": "code",
    "id": "j2BCfMafhIEH",
    "outputId": "3a3d8402-5766-43be-ddcb-b3decb03d57d"
   },
   "outputs": [
    {
     "data": {
      "text/plain": [
       "Text(0.5, 0, 'Time')"
      ]
     },
     "execution_count": 132,
     "metadata": {
      "tags": []
     },
     "output_type": "execute_result"
    },
    {
     "data": {
      "image/png": "[encoded data removed]",
      "text/plain": [
       "<Figure size 432x288 with 1 Axes>"
      ]
     },
     "metadata": {
      "tags": []
     },
     "output_type": "display_data"
    }
   ],
   "source": [
    "def get(x,a,b,c,d):\n",
    "    return d+a*(np.exp(b*x+c)-np.exp(c))\n",
    "\n",
    "import seaborn as sns\n",
    "sns.set()\n",
    "\n",
    "d = df_test[df_test['id'] == 178]\n",
    "y = d['HI']\n",
    "y = np.asarray(y)\n",
    "\n",
    "# y = ewma(y,alpha = 0.2)\n",
    "x = d['cycle']\n",
    "ax = plt.scatter(x ,y)\n",
    "plt.ylabel('HI (A/C No: 178)')\n",
    "plt.xlabel('Time')\n",
    "\n",
    "# d = df[df['id'] == 1]\n",
    "# x = np.array(d['cycle'])\n",
    "# # print(x)\n",
    "# y = np.array(d['HI'])\n",
    "# y = ewma(y,alpha = 0.2)\n",
    "# popt, pcov = curve_fit(func,x,y)\n",
    "# plt.plot(x,func(x,*popt))"
   ]
  },
  {
   "cell_type": "code",
   "execution_count": 107,
   "metadata": {
    "colab": {
     "base_uri": "https://localhost:8080/",
     "height": 34
    },
    "colab_type": "code",
    "id": "PDQN1QJlhSs2",
    "outputId": "191096e8-af73-4db2-ef84-444b17e64d68"
   },
   "outputs": [
    {
     "name": "stdout",
     "output_type": "stream",
     "text": [
      "7   55.56521739130435\n"
     ]
    }
   ],
   "source": [
    "num = df_test['id'].max()\n",
    "num = 7\n",
    "\n",
    "def get(x,a,b,c,d):\n",
    "    return d+a*(np.exp(b*x+c)-np.exp(c))\n",
    "\n",
    "# def get1(x,a,b,c):\n",
    "#     return a*(np.exp(b*x+c)-np.exp(c))\n",
    "\n",
    "index = 0\n",
    "RUL_final = []\n",
    "for t in range(num):\n",
    "    data1 = df_test[df_test['id'] == (t+1)]\n",
    "    r = data1.shape[0]\n",
    "\n",
    "    # if(t<6):\n",
    "    #   index = index+r\n",
    "    #   continue\n",
    "\n",
    "    HI = data1['HI']\n",
    "    \n",
    "    #applying the EWMA filter if needed\n",
    "\n",
    "    # HI = np.asarray(HI)\n",
    "    # HI = ewma(HI,alpha = 0.2)\n",
    "\n",
    "    RUL_list = []\n",
    "    Dis_list = []\n",
    "    aircraft_num = []\n",
    "    for j in range (218):\n",
    "        RUL = -1\n",
    "        Dis = -1\n",
    "        ac_num = -1\n",
    "        n = df[df['id'] == (j+1)].shape[0]\n",
    "        k = n-r+1\n",
    "        if(k > 0):\n",
    "            if (covariance[j] != float('inf')):\n",
    "                for tou in range(k):\n",
    "\n",
    "                    #only for Tou =0 and M1 that is model obtained from unit1\n",
    "\n",
    "                    s = 0\n",
    "                    a = fitted_curve_parameters[j][0]\n",
    "                    b = fitted_curve_parameters[j][1]\n",
    "                    c = fitted_curve_parameters[j][2]\n",
    "                    d = fitted_curve_parameters[j][3]\n",
    "                    for i in range (r):\n",
    "                        y = HI[i+index]\n",
    "                        # y = HI[i]\n",
    "                        p = get(i-r-tou,a,b,c,d)\n",
    "                        # p = get1(i-r-tou,a,b,c)\n",
    "                        s = s+(y-p)*(y-p)\n",
    "                    dis = s/covariance[j]\n",
    "                    rul = tou\n",
    "                    \n",
    "                    if(Dis == -1):\n",
    "                        Dis = dis\n",
    "                        RUL = rul\n",
    "                        ac_num = j+1\n",
    "                    else:\n",
    "                        if(Dis > dis):\n",
    "                            Dis = dis\n",
    "                            RUL = rul\n",
    "                            ac_num = j+1\n",
    "\n",
    "                    #store the RUL and dis for the min dis-Tou in list dist\n",
    "                    # how to get the RUL from the stored model for a given tou?\n",
    "                #store the dist for each model\n",
    "\n",
    "        if(Dis != -1):\n",
    "            RUL_list.append(RUL)\n",
    "            Dis_list.append(Dis)\n",
    "            aircraft_num.append(ac_num)\n",
    "    p = []\n",
    "    p.append(aircraft_num)\n",
    "    p.append(RUL_list)\n",
    "    p.append(Dis_list)\n",
    "    \n",
    "    # create a data frame sort it by distance, reindex it and select the top \n",
    "    # 25% of data for RUL estimation\n",
    "\n",
    "    df1 = pd.DataFrame(p,index = ['A/C No.','RUL','Dis']).T\n",
    "    # pool1 = df1\n",
    "\n",
    "    #sorting according to distance\n",
    "    df1 = df1.sort_values(['Dis'])\n",
    "    # pool2 = df1\n",
    "\n",
    "    x = len(p[0])\n",
    "    if(x == 0):\n",
    "      RUL_final.append(0)\n",
    "      index = index+r\n",
    "      continue\n",
    "\n",
    "    idx = []\n",
    "    for i in range(x):\n",
    "        idx.append(i)\n",
    "    #re-indexing\n",
    "    df1.index = idx\n",
    "\n",
    "    #outlier removal\n",
    "\n",
    "    df1 = df1[df1['RUL']<200]\n",
    "    min_total_life = 125\n",
    "    df0 = df1[df1['RUL'] > min_total_life-r]\n",
    "    while(df0.shape[0] == 0):\n",
    "      min_total_life = min_total_life-5\n",
    "      df0 = df1[df1['RUL'] > min_total_life-r]\n",
    "\n",
    "    df1 = df0\n",
    "    len_df1 = df1.shape[0]\n",
    "\n",
    "    #re-indexing\n",
    "    re_index = []\n",
    "    for i in range(len_df1):\n",
    "        re_index.append(i)\n",
    "    df1.index = re_index\n",
    "    # pool3 = df1\n",
    "\n",
    "    ## performing candidate selection\n",
    "\n",
    "    len_df1 = (int)(len_df1)/6\n",
    "    d0 = df1['Dis'][0]\n",
    "\n",
    "    df2 = df1[df1['Dis']< 1.25*d0]\n",
    "    len_df2 = df2.shape[0]\n",
    "\n",
    "    if(len_df2 < 10):\n",
    "      # p = min(len_df1,10)\n",
    "      df2 = df1[df1.index < len_df1]\n",
    "\n",
    "    # pool4 = df2\n",
    "\n",
    "    Q1 = df2['RUL'].quantile(0.25)\n",
    "    Q2 = df2['RUL'].quantile(0.50)\n",
    "    Q3 = df2['RUL'].quantile(0.75)\n",
    "    I1 = Q3 - Q2\n",
    "    I2 = Q2 - Q1\n",
    "\n",
    "    # Filtering Values between Q1-1.5IQR and Q3+1.5IQR\n",
    "\n",
    "    RUL_min = df2['RUL'].min()\n",
    "    RUL_max = df2['RUL'].max()\n",
    "    RUL_est = (13*RUL_min + 10*RUL_max)/23\n",
    "\n",
    "    df2 = df2[df2['RUL']<(Q2+2*I1)]\n",
    "    if(df2.shape[0]>0):\n",
    "      RUL_min = df2['RUL'].min()\n",
    "      RUL_max = df2['RUL'].max()\n",
    "      RUL_est = (13*RUL_min + 10*RUL_max)/23\n",
    "      \n",
    "    df2 = df2[df2['RUL']> (Q2-3*I2)]   \n",
    "    if(df2.shape[0]>0):\n",
    "      RUL_min = df2['RUL'].min()\n",
    "      RUL_max = df2['RUL'].max()\n",
    "      RUL_est = (13*RUL_min + 10*RUL_max)/23\n",
    "      \n",
    "    re_re_index = []\n",
    "    len_df2 = df2.shape[0]\n",
    "    for i in range(len_df2):\n",
    "        re_re_index.append(i)\n",
    "    df2.index = re_re_index\n",
    "    # pool5 = df2\n",
    "\n",
    "    # print(t+1,\" \",RUL_est)\n",
    "    RUL_final.append(RUL_est)\n",
    "    index = index+r"
   ]
  },
  {
   "cell_type": "code",
   "execution_count": 0,
   "metadata": {
    "colab": {},
    "colab_type": "code",
    "collapsed": true,
    "id": "Vs_X20gkIr5w"
   },
   "outputs": [],
   "source": [
    "# pool1"
   ]
  },
  {
   "cell_type": "code",
   "execution_count": 0,
   "metadata": {
    "colab": {},
    "colab_type": "code",
    "collapsed": true,
    "id": "VVUok_9Griw6"
   },
   "outputs": [],
   "source": [
    "\n",
    "pool5.to_csv('/content/drive/My Drive/RUL_pool.csv')"
   ]
  },
  {
   "cell_type": "code",
   "execution_count": 0,
   "metadata": {
    "colab": {},
    "colab_type": "code",
    "collapsed": true,
    "id": "_aSAL-U6qmGT"
   },
   "outputs": [],
   "source": [
    "with open('/content/drive/My Drive/RUL_test_data-3.txt', 'w') as f:\n",
    "  for item in RUL_final:\n",
    "    f.write(\"%s\\n\" % item)"
   ]
  },
  {
   "cell_type": "code",
   "execution_count": 0,
   "metadata": {
    "colab": {},
    "colab_type": "code",
    "collapsed": true,
    "id": "beecTXwLx_Rm"
   },
   "outputs": [],
   "source": [
    "file1 = open('/content/drive/My Drive/RUL_test_data-3.txt', 'r')\n",
    "RUL_final1 = np.loadtxt(file1, delimiter=',')\n",
    "file1.close()\n",
    "\n",
    "file2 = open('/content/drive/My Drive/submit_test_9_1131.txt', 'r')\n",
    "RUL_final2 = np.loadtxt(file2, delimiter=',')\n",
    "file2.close()"
   ]
  },
  {
   "cell_type": "code",
   "execution_count": 0,
   "metadata": {
    "colab": {},
    "colab_type": "code",
    "collapsed": true,
    "id": "46SpSH12Ne9W"
   },
   "outputs": [],
   "source": [
    "n1 = len(RUL_final1)\n",
    "# RUL_final"
   ]
  },
  {
   "cell_type": "code",
   "execution_count": 0,
   "metadata": {
    "colab": {},
    "colab_type": "code",
    "collapsed": true,
    "id": "-nMs4SKWKG4f"
   },
   "outputs": [],
   "source": [
    "RUL_final = RUL_final1\n",
    "for i in range (n1):\n",
    "  a = min(RUL_final1[i],RUL_final2[i])\n",
    "  b = max(RUL_final1[i],RUL_final2[i])\n",
    "  RUL_final[i] = (13*a+10*b)/23\n"
   ]
  },
  {
   "cell_type": "code",
   "execution_count": 0,
   "metadata": {
    "colab": {},
    "colab_type": "code",
    "collapsed": true,
    "id": "AQ2RtzA2MF4C"
   },
   "outputs": [],
   "source": [
    "# RUL_final\n",
    "with open('/content/drive/My Drive/submit_test14.txt', 'w') as f:\n",
    "  for item in RUL_final:\n",
    "    f.write(\"%s\\n\" % item)"
   ]
  },
  {
   "cell_type": "code",
   "execution_count": 0,
   "metadata": {
    "colab": {},
    "colab_type": "code",
    "collapsed": true,
    "id": "vpgmzfJbMIaJ"
   },
   "outputs": [],
   "source": []
  }
 ],
 "metadata": {
  "colab": {
   "collapsed_sections": [],
   "name": "code-RUL-test-data-lstm-trg-data-lstm.ipynb",
   "provenance": []
  },
  "kernelspec": {
   "display_name": "Python 3",
   "language": "python",
   "name": "python3"
  },
  "language_info": {
   "codemirror_mode": {
    "name": "ipython",
    "version": 3
   },
   "file_extension": ".py",
   "mimetype": "text/x-python",
   "name": "python",
   "nbconvert_exporter": "python",
   "pygments_lexer": "ipython3",
   "version": "3.6.3"
  }
 },
 "nbformat": 4,
 "nbformat_minor": 1
}
